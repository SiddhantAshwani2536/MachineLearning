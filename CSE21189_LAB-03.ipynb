{
  "cells": [
    {
      "cell_type": "markdown",
      "id": "7580a956",
      "metadata": {
        "id": "7580a956"
      },
      "source": [
        "# SIDDHANT ASHWANI, BL.EN.U4CSE21189 , ML LAB-03"
      ]
    },
    {
      "cell_type": "markdown",
      "id": "b4490b72",
      "metadata": {
        "id": "b4490b72"
      },
      "source": [
        "A1. Evaluate the intraclass spread and interclass distances between the classes in your dataset. If\n",
        "your data deals with multiple classes, you can take any two classes. Steps below (refer below\n",
        "diagram for understanding):\n",
        "\n",
        "i) Calculate the mean for each class (also called as class centroid)(Suggestion: You may use numpy.mean()function for finding the average vector for all vectors in a given class. Please define the axis property appropriatelyto use this function.EX: feat_vecs.mean(axis=0))\n",
        "\n"
      ]
    },
    {
      "cell_type": "code",
      "execution_count": 3,
      "id": "fb03e83c",
      "metadata": {
        "colab": {
          "base_uri": "https://localhost:8080/",
          "height": 443
        },
        "id": "fb03e83c",
        "outputId": "5b17f618-3484-4b0b-ddec-a1d254a65f42"
      },
      "outputs": [
        {
          "output_type": "execute_result",
          "data": {
            "text/plain": [
              "      embed_0   embed_1   embed_2   embed_3   embed_4   embed_5   embed_6  \\\n",
              "0    0.009625 -0.029216  0.027109  0.023631 -0.004972  0.031757 -0.045125   \n",
              "1   -0.007535 -0.039844  0.030167  0.031224  0.004742  0.028289 -0.068723   \n",
              "2    0.022408 -0.030840  0.032328  0.046965  0.007798  0.025860 -0.065093   \n",
              "3    0.019677 -0.034055  0.012662  0.070387 -0.011170  0.017842 -0.050945   \n",
              "4    0.017678 -0.030323  0.012829  0.065267 -0.025161  0.011964 -0.050590   \n",
              "..        ...       ...       ...       ...       ...       ...       ...   \n",
              "895  0.019743 -0.071799  0.022546  0.049042 -0.005767 -0.016275 -0.037731   \n",
              "896  0.000186 -0.027604  0.010623  0.038237 -0.026675  0.020215 -0.040816   \n",
              "897  0.018066 -0.032152  0.039794  0.047608  0.003898  0.024092 -0.056508   \n",
              "898 -0.003492 -0.022739  0.021777  0.044054 -0.005621  0.013863 -0.079196   \n",
              "899  0.013689 -0.037855  0.039763  0.035750  0.004115  0.005637 -0.050556   \n",
              "\n",
              "      embed_7   embed_8   embed_9  ...  embed_759  embed_760  embed_761  \\\n",
              "0    0.044483  0.019400 -0.017189  ...  -0.001972  -0.008154  -0.056139   \n",
              "1    0.039153  0.019596 -0.027138  ...   0.008613  -0.006578  -0.034220   \n",
              "2    0.035118  0.035359 -0.029205  ...   0.020413  -0.034288  -0.050649   \n",
              "3    0.044878  0.034781 -0.025772  ...   0.002963  -0.018754  -0.053278   \n",
              "4    0.042820  0.029161 -0.015004  ...   0.010192  -0.010147  -0.035857   \n",
              "..        ...       ...       ...  ...        ...        ...        ...   \n",
              "895  0.029718  0.009203 -0.030913  ...  -0.001192  -0.026138  -0.056447   \n",
              "896  0.032210  0.041016 -0.014836  ...   0.015479  -0.003967  -0.037808   \n",
              "897  0.020527  0.031972 -0.026038  ...   0.011308  -0.016882  -0.059904   \n",
              "898  0.039150  0.004557 -0.015787  ...   0.004005  -0.007196  -0.041652   \n",
              "899  0.024668  0.025077 -0.029114  ...  -0.000129  -0.003880  -0.048696   \n",
              "\n",
              "     embed_762  embed_763  embed_764  embed_765  embed_766  embed_767  Label  \n",
              "0     0.009890   0.042366   0.040134   0.009304  -0.016137  -0.009309      0  \n",
              "1     0.027574   0.045456   0.027402   0.017837  -0.035009  -0.010062      0  \n",
              "2     0.028408   0.040412   0.030261   0.003535  -0.034122  -0.017289      0  \n",
              "3     0.033005   0.031635   0.022544  -0.011774  -0.011125  -0.017540      0  \n",
              "4     0.021784   0.034621   0.017342  -0.009884  -0.010316  -0.029238      0  \n",
              "..         ...        ...        ...        ...        ...        ...    ...  \n",
              "895   0.015818   0.045241   0.012620  -0.004837  -0.014540  -0.046791      2  \n",
              "896   0.021234   0.031012  -0.010890   0.003081  -0.015145  -0.045444      0  \n",
              "897   0.009558   0.039976   0.029574   0.013737  -0.003724  -0.017324      2  \n",
              "898   0.020945   0.047604   0.019767   0.005806  -0.019280  -0.016415      5  \n",
              "899   0.015711   0.039773   0.036328   0.010483  -0.021304  -0.032017      2  \n",
              "\n",
              "[900 rows x 769 columns]"
            ],
            "text/html": [
              "\n",
              "  <div id=\"df-32adb54c-78f4-46a3-836d-76561c44d0eb\" class=\"colab-df-container\">\n",
              "    <div>\n",
              "<style scoped>\n",
              "    .dataframe tbody tr th:only-of-type {\n",
              "        vertical-align: middle;\n",
              "    }\n",
              "\n",
              "    .dataframe tbody tr th {\n",
              "        vertical-align: top;\n",
              "    }\n",
              "\n",
              "    .dataframe thead th {\n",
              "        text-align: right;\n",
              "    }\n",
              "</style>\n",
              "<table border=\"1\" class=\"dataframe\">\n",
              "  <thead>\n",
              "    <tr style=\"text-align: right;\">\n",
              "      <th></th>\n",
              "      <th>embed_0</th>\n",
              "      <th>embed_1</th>\n",
              "      <th>embed_2</th>\n",
              "      <th>embed_3</th>\n",
              "      <th>embed_4</th>\n",
              "      <th>embed_5</th>\n",
              "      <th>embed_6</th>\n",
              "      <th>embed_7</th>\n",
              "      <th>embed_8</th>\n",
              "      <th>embed_9</th>\n",
              "      <th>...</th>\n",
              "      <th>embed_759</th>\n",
              "      <th>embed_760</th>\n",
              "      <th>embed_761</th>\n",
              "      <th>embed_762</th>\n",
              "      <th>embed_763</th>\n",
              "      <th>embed_764</th>\n",
              "      <th>embed_765</th>\n",
              "      <th>embed_766</th>\n",
              "      <th>embed_767</th>\n",
              "      <th>Label</th>\n",
              "    </tr>\n",
              "  </thead>\n",
              "  <tbody>\n",
              "    <tr>\n",
              "      <th>0</th>\n",
              "      <td>0.009625</td>\n",
              "      <td>-0.029216</td>\n",
              "      <td>0.027109</td>\n",
              "      <td>0.023631</td>\n",
              "      <td>-0.004972</td>\n",
              "      <td>0.031757</td>\n",
              "      <td>-0.045125</td>\n",
              "      <td>0.044483</td>\n",
              "      <td>0.019400</td>\n",
              "      <td>-0.017189</td>\n",
              "      <td>...</td>\n",
              "      <td>-0.001972</td>\n",
              "      <td>-0.008154</td>\n",
              "      <td>-0.056139</td>\n",
              "      <td>0.009890</td>\n",
              "      <td>0.042366</td>\n",
              "      <td>0.040134</td>\n",
              "      <td>0.009304</td>\n",
              "      <td>-0.016137</td>\n",
              "      <td>-0.009309</td>\n",
              "      <td>0</td>\n",
              "    </tr>\n",
              "    <tr>\n",
              "      <th>1</th>\n",
              "      <td>-0.007535</td>\n",
              "      <td>-0.039844</td>\n",
              "      <td>0.030167</td>\n",
              "      <td>0.031224</td>\n",
              "      <td>0.004742</td>\n",
              "      <td>0.028289</td>\n",
              "      <td>-0.068723</td>\n",
              "      <td>0.039153</td>\n",
              "      <td>0.019596</td>\n",
              "      <td>-0.027138</td>\n",
              "      <td>...</td>\n",
              "      <td>0.008613</td>\n",
              "      <td>-0.006578</td>\n",
              "      <td>-0.034220</td>\n",
              "      <td>0.027574</td>\n",
              "      <td>0.045456</td>\n",
              "      <td>0.027402</td>\n",
              "      <td>0.017837</td>\n",
              "      <td>-0.035009</td>\n",
              "      <td>-0.010062</td>\n",
              "      <td>0</td>\n",
              "    </tr>\n",
              "    <tr>\n",
              "      <th>2</th>\n",
              "      <td>0.022408</td>\n",
              "      <td>-0.030840</td>\n",
              "      <td>0.032328</td>\n",
              "      <td>0.046965</td>\n",
              "      <td>0.007798</td>\n",
              "      <td>0.025860</td>\n",
              "      <td>-0.065093</td>\n",
              "      <td>0.035118</td>\n",
              "      <td>0.035359</td>\n",
              "      <td>-0.029205</td>\n",
              "      <td>...</td>\n",
              "      <td>0.020413</td>\n",
              "      <td>-0.034288</td>\n",
              "      <td>-0.050649</td>\n",
              "      <td>0.028408</td>\n",
              "      <td>0.040412</td>\n",
              "      <td>0.030261</td>\n",
              "      <td>0.003535</td>\n",
              "      <td>-0.034122</td>\n",
              "      <td>-0.017289</td>\n",
              "      <td>0</td>\n",
              "    </tr>\n",
              "    <tr>\n",
              "      <th>3</th>\n",
              "      <td>0.019677</td>\n",
              "      <td>-0.034055</td>\n",
              "      <td>0.012662</td>\n",
              "      <td>0.070387</td>\n",
              "      <td>-0.011170</td>\n",
              "      <td>0.017842</td>\n",
              "      <td>-0.050945</td>\n",
              "      <td>0.044878</td>\n",
              "      <td>0.034781</td>\n",
              "      <td>-0.025772</td>\n",
              "      <td>...</td>\n",
              "      <td>0.002963</td>\n",
              "      <td>-0.018754</td>\n",
              "      <td>-0.053278</td>\n",
              "      <td>0.033005</td>\n",
              "      <td>0.031635</td>\n",
              "      <td>0.022544</td>\n",
              "      <td>-0.011774</td>\n",
              "      <td>-0.011125</td>\n",
              "      <td>-0.017540</td>\n",
              "      <td>0</td>\n",
              "    </tr>\n",
              "    <tr>\n",
              "      <th>4</th>\n",
              "      <td>0.017678</td>\n",
              "      <td>-0.030323</td>\n",
              "      <td>0.012829</td>\n",
              "      <td>0.065267</td>\n",
              "      <td>-0.025161</td>\n",
              "      <td>0.011964</td>\n",
              "      <td>-0.050590</td>\n",
              "      <td>0.042820</td>\n",
              "      <td>0.029161</td>\n",
              "      <td>-0.015004</td>\n",
              "      <td>...</td>\n",
              "      <td>0.010192</td>\n",
              "      <td>-0.010147</td>\n",
              "      <td>-0.035857</td>\n",
              "      <td>0.021784</td>\n",
              "      <td>0.034621</td>\n",
              "      <td>0.017342</td>\n",
              "      <td>-0.009884</td>\n",
              "      <td>-0.010316</td>\n",
              "      <td>-0.029238</td>\n",
              "      <td>0</td>\n",
              "    </tr>\n",
              "    <tr>\n",
              "      <th>...</th>\n",
              "      <td>...</td>\n",
              "      <td>...</td>\n",
              "      <td>...</td>\n",
              "      <td>...</td>\n",
              "      <td>...</td>\n",
              "      <td>...</td>\n",
              "      <td>...</td>\n",
              "      <td>...</td>\n",
              "      <td>...</td>\n",
              "      <td>...</td>\n",
              "      <td>...</td>\n",
              "      <td>...</td>\n",
              "      <td>...</td>\n",
              "      <td>...</td>\n",
              "      <td>...</td>\n",
              "      <td>...</td>\n",
              "      <td>...</td>\n",
              "      <td>...</td>\n",
              "      <td>...</td>\n",
              "      <td>...</td>\n",
              "      <td>...</td>\n",
              "    </tr>\n",
              "    <tr>\n",
              "      <th>895</th>\n",
              "      <td>0.019743</td>\n",
              "      <td>-0.071799</td>\n",
              "      <td>0.022546</td>\n",
              "      <td>0.049042</td>\n",
              "      <td>-0.005767</td>\n",
              "      <td>-0.016275</td>\n",
              "      <td>-0.037731</td>\n",
              "      <td>0.029718</td>\n",
              "      <td>0.009203</td>\n",
              "      <td>-0.030913</td>\n",
              "      <td>...</td>\n",
              "      <td>-0.001192</td>\n",
              "      <td>-0.026138</td>\n",
              "      <td>-0.056447</td>\n",
              "      <td>0.015818</td>\n",
              "      <td>0.045241</td>\n",
              "      <td>0.012620</td>\n",
              "      <td>-0.004837</td>\n",
              "      <td>-0.014540</td>\n",
              "      <td>-0.046791</td>\n",
              "      <td>2</td>\n",
              "    </tr>\n",
              "    <tr>\n",
              "      <th>896</th>\n",
              "      <td>0.000186</td>\n",
              "      <td>-0.027604</td>\n",
              "      <td>0.010623</td>\n",
              "      <td>0.038237</td>\n",
              "      <td>-0.026675</td>\n",
              "      <td>0.020215</td>\n",
              "      <td>-0.040816</td>\n",
              "      <td>0.032210</td>\n",
              "      <td>0.041016</td>\n",
              "      <td>-0.014836</td>\n",
              "      <td>...</td>\n",
              "      <td>0.015479</td>\n",
              "      <td>-0.003967</td>\n",
              "      <td>-0.037808</td>\n",
              "      <td>0.021234</td>\n",
              "      <td>0.031012</td>\n",
              "      <td>-0.010890</td>\n",
              "      <td>0.003081</td>\n",
              "      <td>-0.015145</td>\n",
              "      <td>-0.045444</td>\n",
              "      <td>0</td>\n",
              "    </tr>\n",
              "    <tr>\n",
              "      <th>897</th>\n",
              "      <td>0.018066</td>\n",
              "      <td>-0.032152</td>\n",
              "      <td>0.039794</td>\n",
              "      <td>0.047608</td>\n",
              "      <td>0.003898</td>\n",
              "      <td>0.024092</td>\n",
              "      <td>-0.056508</td>\n",
              "      <td>0.020527</td>\n",
              "      <td>0.031972</td>\n",
              "      <td>-0.026038</td>\n",
              "      <td>...</td>\n",
              "      <td>0.011308</td>\n",
              "      <td>-0.016882</td>\n",
              "      <td>-0.059904</td>\n",
              "      <td>0.009558</td>\n",
              "      <td>0.039976</td>\n",
              "      <td>0.029574</td>\n",
              "      <td>0.013737</td>\n",
              "      <td>-0.003724</td>\n",
              "      <td>-0.017324</td>\n",
              "      <td>2</td>\n",
              "    </tr>\n",
              "    <tr>\n",
              "      <th>898</th>\n",
              "      <td>-0.003492</td>\n",
              "      <td>-0.022739</td>\n",
              "      <td>0.021777</td>\n",
              "      <td>0.044054</td>\n",
              "      <td>-0.005621</td>\n",
              "      <td>0.013863</td>\n",
              "      <td>-0.079196</td>\n",
              "      <td>0.039150</td>\n",
              "      <td>0.004557</td>\n",
              "      <td>-0.015787</td>\n",
              "      <td>...</td>\n",
              "      <td>0.004005</td>\n",
              "      <td>-0.007196</td>\n",
              "      <td>-0.041652</td>\n",
              "      <td>0.020945</td>\n",
              "      <td>0.047604</td>\n",
              "      <td>0.019767</td>\n",
              "      <td>0.005806</td>\n",
              "      <td>-0.019280</td>\n",
              "      <td>-0.016415</td>\n",
              "      <td>5</td>\n",
              "    </tr>\n",
              "    <tr>\n",
              "      <th>899</th>\n",
              "      <td>0.013689</td>\n",
              "      <td>-0.037855</td>\n",
              "      <td>0.039763</td>\n",
              "      <td>0.035750</td>\n",
              "      <td>0.004115</td>\n",
              "      <td>0.005637</td>\n",
              "      <td>-0.050556</td>\n",
              "      <td>0.024668</td>\n",
              "      <td>0.025077</td>\n",
              "      <td>-0.029114</td>\n",
              "      <td>...</td>\n",
              "      <td>-0.000129</td>\n",
              "      <td>-0.003880</td>\n",
              "      <td>-0.048696</td>\n",
              "      <td>0.015711</td>\n",
              "      <td>0.039773</td>\n",
              "      <td>0.036328</td>\n",
              "      <td>0.010483</td>\n",
              "      <td>-0.021304</td>\n",
              "      <td>-0.032017</td>\n",
              "      <td>2</td>\n",
              "    </tr>\n",
              "  </tbody>\n",
              "</table>\n",
              "<p>900 rows × 769 columns</p>\n",
              "</div>\n",
              "    <div class=\"colab-df-buttons\">\n",
              "\n",
              "  <div class=\"colab-df-container\">\n",
              "    <button class=\"colab-df-convert\" onclick=\"convertToInteractive('df-32adb54c-78f4-46a3-836d-76561c44d0eb')\"\n",
              "            title=\"Convert this dataframe to an interactive table.\"\n",
              "            style=\"display:none;\">\n",
              "\n",
              "  <svg xmlns=\"http://www.w3.org/2000/svg\" height=\"24px\" viewBox=\"0 -960 960 960\">\n",
              "    <path d=\"M120-120v-720h720v720H120Zm60-500h600v-160H180v160Zm220 220h160v-160H400v160Zm0 220h160v-160H400v160ZM180-400h160v-160H180v160Zm440 0h160v-160H620v160ZM180-180h160v-160H180v160Zm440 0h160v-160H620v160Z\"/>\n",
              "  </svg>\n",
              "    </button>\n",
              "\n",
              "  <style>\n",
              "    .colab-df-container {\n",
              "      display:flex;\n",
              "      gap: 12px;\n",
              "    }\n",
              "\n",
              "    .colab-df-convert {\n",
              "      background-color: #E8F0FE;\n",
              "      border: none;\n",
              "      border-radius: 50%;\n",
              "      cursor: pointer;\n",
              "      display: none;\n",
              "      fill: #1967D2;\n",
              "      height: 32px;\n",
              "      padding: 0 0 0 0;\n",
              "      width: 32px;\n",
              "    }\n",
              "\n",
              "    .colab-df-convert:hover {\n",
              "      background-color: #E2EBFA;\n",
              "      box-shadow: 0px 1px 2px rgba(60, 64, 67, 0.3), 0px 1px 3px 1px rgba(60, 64, 67, 0.15);\n",
              "      fill: #174EA6;\n",
              "    }\n",
              "\n",
              "    .colab-df-buttons div {\n",
              "      margin-bottom: 4px;\n",
              "    }\n",
              "\n",
              "    [theme=dark] .colab-df-convert {\n",
              "      background-color: #3B4455;\n",
              "      fill: #D2E3FC;\n",
              "    }\n",
              "\n",
              "    [theme=dark] .colab-df-convert:hover {\n",
              "      background-color: #434B5C;\n",
              "      box-shadow: 0px 1px 3px 1px rgba(0, 0, 0, 0.15);\n",
              "      filter: drop-shadow(0px 1px 2px rgba(0, 0, 0, 0.3));\n",
              "      fill: #FFFFFF;\n",
              "    }\n",
              "  </style>\n",
              "\n",
              "    <script>\n",
              "      const buttonEl =\n",
              "        document.querySelector('#df-32adb54c-78f4-46a3-836d-76561c44d0eb button.colab-df-convert');\n",
              "      buttonEl.style.display =\n",
              "        google.colab.kernel.accessAllowed ? 'block' : 'none';\n",
              "\n",
              "      async function convertToInteractive(key) {\n",
              "        const element = document.querySelector('#df-32adb54c-78f4-46a3-836d-76561c44d0eb');\n",
              "        const dataTable =\n",
              "          await google.colab.kernel.invokeFunction('convertToInteractive',\n",
              "                                                    [key], {});\n",
              "        if (!dataTable) return;\n",
              "\n",
              "        const docLinkHtml = 'Like what you see? Visit the ' +\n",
              "          '<a target=\"_blank\" href=https://colab.research.google.com/notebooks/data_table.ipynb>data table notebook</a>'\n",
              "          + ' to learn more about interactive tables.';\n",
              "        element.innerHTML = '';\n",
              "        dataTable['output_type'] = 'display_data';\n",
              "        await google.colab.output.renderOutput(dataTable, element);\n",
              "        const docLink = document.createElement('div');\n",
              "        docLink.innerHTML = docLinkHtml;\n",
              "        element.appendChild(docLink);\n",
              "      }\n",
              "    </script>\n",
              "  </div>\n",
              "\n",
              "\n",
              "<div id=\"df-eae57277-061b-4f42-bb6e-d5522e235fa7\">\n",
              "  <button class=\"colab-df-quickchart\" onclick=\"quickchart('df-eae57277-061b-4f42-bb6e-d5522e235fa7')\"\n",
              "            title=\"Suggest charts.\"\n",
              "            style=\"display:none;\">\n",
              "\n",
              "<svg xmlns=\"http://www.w3.org/2000/svg\" height=\"24px\"viewBox=\"0 0 24 24\"\n",
              "     width=\"24px\">\n",
              "    <g>\n",
              "        <path d=\"M19 3H5c-1.1 0-2 .9-2 2v14c0 1.1.9 2 2 2h14c1.1 0 2-.9 2-2V5c0-1.1-.9-2-2-2zM9 17H7v-7h2v7zm4 0h-2V7h2v10zm4 0h-2v-4h2v4z\"/>\n",
              "    </g>\n",
              "</svg>\n",
              "  </button>\n",
              "\n",
              "<style>\n",
              "  .colab-df-quickchart {\n",
              "      --bg-color: #E8F0FE;\n",
              "      --fill-color: #1967D2;\n",
              "      --hover-bg-color: #E2EBFA;\n",
              "      --hover-fill-color: #174EA6;\n",
              "      --disabled-fill-color: #AAA;\n",
              "      --disabled-bg-color: #DDD;\n",
              "  }\n",
              "\n",
              "  [theme=dark] .colab-df-quickchart {\n",
              "      --bg-color: #3B4455;\n",
              "      --fill-color: #D2E3FC;\n",
              "      --hover-bg-color: #434B5C;\n",
              "      --hover-fill-color: #FFFFFF;\n",
              "      --disabled-bg-color: #3B4455;\n",
              "      --disabled-fill-color: #666;\n",
              "  }\n",
              "\n",
              "  .colab-df-quickchart {\n",
              "    background-color: var(--bg-color);\n",
              "    border: none;\n",
              "    border-radius: 50%;\n",
              "    cursor: pointer;\n",
              "    display: none;\n",
              "    fill: var(--fill-color);\n",
              "    height: 32px;\n",
              "    padding: 0;\n",
              "    width: 32px;\n",
              "  }\n",
              "\n",
              "  .colab-df-quickchart:hover {\n",
              "    background-color: var(--hover-bg-color);\n",
              "    box-shadow: 0 1px 2px rgba(60, 64, 67, 0.3), 0 1px 3px 1px rgba(60, 64, 67, 0.15);\n",
              "    fill: var(--button-hover-fill-color);\n",
              "  }\n",
              "\n",
              "  .colab-df-quickchart-complete:disabled,\n",
              "  .colab-df-quickchart-complete:disabled:hover {\n",
              "    background-color: var(--disabled-bg-color);\n",
              "    fill: var(--disabled-fill-color);\n",
              "    box-shadow: none;\n",
              "  }\n",
              "\n",
              "  .colab-df-spinner {\n",
              "    border: 2px solid var(--fill-color);\n",
              "    border-color: transparent;\n",
              "    border-bottom-color: var(--fill-color);\n",
              "    animation:\n",
              "      spin 1s steps(1) infinite;\n",
              "  }\n",
              "\n",
              "  @keyframes spin {\n",
              "    0% {\n",
              "      border-color: transparent;\n",
              "      border-bottom-color: var(--fill-color);\n",
              "      border-left-color: var(--fill-color);\n",
              "    }\n",
              "    20% {\n",
              "      border-color: transparent;\n",
              "      border-left-color: var(--fill-color);\n",
              "      border-top-color: var(--fill-color);\n",
              "    }\n",
              "    30% {\n",
              "      border-color: transparent;\n",
              "      border-left-color: var(--fill-color);\n",
              "      border-top-color: var(--fill-color);\n",
              "      border-right-color: var(--fill-color);\n",
              "    }\n",
              "    40% {\n",
              "      border-color: transparent;\n",
              "      border-right-color: var(--fill-color);\n",
              "      border-top-color: var(--fill-color);\n",
              "    }\n",
              "    60% {\n",
              "      border-color: transparent;\n",
              "      border-right-color: var(--fill-color);\n",
              "    }\n",
              "    80% {\n",
              "      border-color: transparent;\n",
              "      border-right-color: var(--fill-color);\n",
              "      border-bottom-color: var(--fill-color);\n",
              "    }\n",
              "    90% {\n",
              "      border-color: transparent;\n",
              "      border-bottom-color: var(--fill-color);\n",
              "    }\n",
              "  }\n",
              "</style>\n",
              "\n",
              "  <script>\n",
              "    async function quickchart(key) {\n",
              "      const quickchartButtonEl =\n",
              "        document.querySelector('#' + key + ' button');\n",
              "      quickchartButtonEl.disabled = true;  // To prevent multiple clicks.\n",
              "      quickchartButtonEl.classList.add('colab-df-spinner');\n",
              "      try {\n",
              "        const charts = await google.colab.kernel.invokeFunction(\n",
              "            'suggestCharts', [key], {});\n",
              "      } catch (error) {\n",
              "        console.error('Error during call to suggestCharts:', error);\n",
              "      }\n",
              "      quickchartButtonEl.classList.remove('colab-df-spinner');\n",
              "      quickchartButtonEl.classList.add('colab-df-quickchart-complete');\n",
              "    }\n",
              "    (() => {\n",
              "      let quickchartButtonEl =\n",
              "        document.querySelector('#df-eae57277-061b-4f42-bb6e-d5522e235fa7 button');\n",
              "      quickchartButtonEl.style.display =\n",
              "        google.colab.kernel.accessAllowed ? 'block' : 'none';\n",
              "    })();\n",
              "  </script>\n",
              "</div>\n",
              "    </div>\n",
              "  </div>\n"
            ]
          },
          "metadata": {},
          "execution_count": 3
        }
      ],
      "source": [
        "import pandas as pd    #loading the dataset\n",
        "d = pd.read_excel(r\"/content/embeddingsdata.xlsx\")\n",
        "df = pd.DataFrame(d)\n",
        "df"
      ]
    },
    {
      "cell_type": "markdown",
      "source": [
        "ii) Calculate spread (standard deviation) for each class(Suggestion: You may use numpy.std()function for finding the standard deviationvector for all vectors in a given class. Please define the axis property appropriately to use this function.)\n",
        "\n"
      ],
      "metadata": {
        "id": "APcKQj8fjkbw"
      },
      "id": "APcKQj8fjkbw"
    },
    {
      "cell_type": "code",
      "execution_count": 4,
      "id": "b310e648",
      "metadata": {
        "colab": {
          "base_uri": "https://localhost:8080/"
        },
        "id": "b310e648",
        "outputId": "dc371d29-ee8f-40ca-b7c3-81de232f9e45"
      },
      "outputs": [
        {
          "output_type": "stream",
          "name": "stdout",
          "text": [
            "Mean of Embed_15:  0.009942803527768168\n",
            "Mean of Embed_24:  -0.0442978491106381\n"
          ]
        }
      ],
      "source": [
        "# Taking only 2 classes for consideration due to size of dataset\n",
        "import numpy as np\n",
        "select1=df['embed_15']\n",
        "select2=df['embed_24']  # selecting 2 columns from the dataset\n",
        "c1=select1.mean()\n",
        "c2=select2.mean()\n",
        "print(\"Mean of Embed_15: \",c1)\n",
        "print(\"Mean of Embed_24: \",c2)"
      ]
    },
    {
      "cell_type": "markdown",
      "source": [
        "iii) Calculate the distance between mean vectors between classes(Suggestion: numpy.linalg.norm(centroid1 –centroid2)gives the Euclidean distance between two centroids.)"
      ],
      "metadata": {
        "id": "hbsW4Nhwjpng"
      },
      "id": "hbsW4Nhwjpng"
    },
    {
      "cell_type": "code",
      "execution_count": 5,
      "id": "f4a57c7d",
      "metadata": {
        "colab": {
          "base_uri": "https://localhost:8080/"
        },
        "id": "f4a57c7d",
        "outputId": "05441219-fb49-4297-a454-db6ef398c8c9"
      },
      "outputs": [
        {
          "output_type": "stream",
          "name": "stdout",
          "text": [
            "Standard deviation of the first column:  0.011923877867072316\n",
            "Standard deviation of the second column:  0.013644353272506796\n"
          ]
        }
      ],
      "source": [
        "std1=select1.std()    #finding standard deviations for the columns\n",
        "std2=select2.std()\n",
        "print(\"Standard deviation of the first column: \",std1)\n",
        "print(\"Standard deviation of the second column: \",std2)"
      ]
    },
    {
      "cell_type": "code",
      "execution_count": null,
      "id": "987ffe05",
      "metadata": {
        "id": "987ffe05",
        "outputId": "fa43e3da-87e4-4fbb-835d-c3b68de58405"
      },
      "outputs": [
        {
          "name": "stdout",
          "output_type": "stream",
          "text": [
            "Distance between the mean vectors:  0.03112472973919163\n"
          ]
        }
      ],
      "source": [
        "print(\"Distance between the mean vectors: \",abs(c1-c2))  #mean vector distance b/w 2 columns"
      ]
    },
    {
      "cell_type": "markdown",
      "id": "c6134842",
      "metadata": {
        "id": "c6134842"
      },
      "source": [
        "A2. Take any feature from your dataset. Observe the density pattern for that feature by plotting the histogram. Use buckets (data in ranges) for histogram generation and study. Calculate the mean and variance from the available data."
      ]
    },
    {
      "cell_type": "code",
      "execution_count": 11,
      "id": "0a710868",
      "metadata": {
        "colab": {
          "base_uri": "https://localhost:8080/",
          "height": 507
        },
        "id": "0a710868",
        "outputId": "8bb95a76-db72-4e12-9b74-0123c5b11922"
      },
      "outputs": [
        {
          "output_type": "display_data",
          "data": {
            "text/plain": [
              "<Figure size 640x480 with 1 Axes>"
            ],
            "image/png": "[encoded data removed]"
          },
          "metadata": {}
        },
        {
          "output_type": "stream",
          "name": "stdout",
          "text": [
            "The mean of of selected feature:  0.009942803527768168\n",
            "The variance of selected feature:  0.00014217886338885706\n"
          ]
        }
      ],
      "source": [
        "import matplotlib.pyplot as plt\n",
        "# considering the 10th attribute\n",
        "plt.hist(select1,bins=20,color='red',edgecolor='black')\n",
        "plt.xlabel('value of attributes')\n",
        "plt.ylabel('Frequency')\n",
        "plt.title('Histogram diagram on Embed_15')\n",
        "plt.show()\n",
        "#calculating the mean of embed_10\n",
        "mean1 = select1.mean()\n",
        "print(\"The mean of of selected feature: \",mean1)\n",
        "#calculating the variance of embed_10\n",
        "var1 = select1.var()\n",
        "print(\"The variance of selected feature: \",var1)"
      ]
    },
    {
      "cell_type": "markdown",
      "id": "1e8f4bba",
      "metadata": {
        "id": "1e8f4bba"
      },
      "source": [
        "A3. Take any two feature vectors from your dataset. Calculate the Minkwoski distance with r from 1 to 10. Make a plot of the distance and observe the nature of this graph."
      ]
    },
    {
      "cell_type": "code",
      "execution_count": 15,
      "id": "dc4b29a5",
      "metadata": {
        "colab": {
          "base_uri": "https://localhost:8080/",
          "height": 487
        },
        "id": "dc4b29a5",
        "outputId": "35d3e987-6abf-42fc-f22a-df42a4515e22"
      },
      "outputs": [
        {
          "output_type": "display_data",
          "data": {
            "text/plain": [
              "<Figure size 500x500 with 1 Axes>"
            ],
            "image/png": "[encoded data removed]"
          },
          "metadata": {}
        }
      ],
      "source": [
        "import numpy as np\n",
        "v1 = df['embed_10'].to_numpy()\n",
        "v2 = df['embed_14'].to_numpy()    #vectorizing the columns\n",
        "r = range(1,15)\n",
        "RD = []\n",
        "for a in r:\n",
        "    dist = np.power(np.sum(np.abs(v1 - v2) ** a),1.0 / a)    #Calculating the distance\n",
        "    RD.append(dist)\n",
        "plt.figure(figsize=(5, 5))\n",
        "plt.plot(r, RD, marker='x', linestyle='-', color='green') #changing graph line styling\n",
        "plt.xlabel('r')\n",
        "plt.ylabel('Minkowski Distance')\n",
        "plt.title('Minkowski Distance vs. r')\n",
        "plt.grid(True)\n",
        "plt.show()"
      ]
    },
    {
      "cell_type": "markdown",
      "id": "02acf63c",
      "metadata": {
        "id": "02acf63c"
      },
      "source": [
        "A4. Divide dataset in your project into two parts –train & test set. To accomplish this, use the train-test_split() function available in SciKit."
      ]
    },
    {
      "cell_type": "code",
      "execution_count": 16,
      "id": "0ea51d98",
      "metadata": {
        "id": "0ea51d98"
      },
      "outputs": [],
      "source": [
        "from sklearn.model_selection import train_test_split\n",
        "d = np.array(d)   #Converting data into an array using the numpy library\n",
        "X = d[:,:-1] #all rows, all columns except the last column\n",
        "y = d[:,-1]  #all rows, only the last column\n",
        "X_Train,X_Test,Y_Train,Y_Test = train_test_split(X,y,test_size=0.5,random_state=42)\n",
        "#random_state we run the code, the data will be shuffled in the same way, resulting in the same training and testing subsets."
      ]
    },
    {
      "cell_type": "markdown",
      "id": "9024ddb2",
      "metadata": {
        "id": "9024ddb2"
      },
      "source": [
        "A5. Train a kNN classifier (k =3)using the training set obtained from above exercise."
      ]
    },
    {
      "cell_type": "code",
      "execution_count": null,
      "id": "cb4f049a",
      "metadata": {
        "id": "cb4f049a",
        "outputId": "b492f8e9-6a79-4e79-968c-9a98b77a5848"
      },
      "outputs": [
        {
          "data": {
            "text/html": [
              "<style>#sk-container-id-6 {color: black;background-color: white;}#sk-container-id-6 pre{padding: 0;}#sk-container-id-6 div.sk-toggleable {background-color: white;}#sk-container-id-6 label.sk-toggleable__label {cursor: pointer;display: block;width: 100%;margin-bottom: 0;padding: 0.3em;box-sizing: border-box;text-align: center;}#sk-container-id-6 label.sk-toggleable__label-arrow:before {content: \"▸\";float: left;margin-right: 0.25em;color: #696969;}#sk-container-id-6 label.sk-toggleable__label-arrow:hover:before {color: black;}#sk-container-id-6 div.sk-estimator:hover label.sk-toggleable__label-arrow:before {color: black;}#sk-container-id-6 div.sk-toggleable__content {max-height: 0;max-width: 0;overflow: hidden;text-align: left;background-color: #f0f8ff;}#sk-container-id-6 div.sk-toggleable__content pre {margin: 0.2em;color: black;border-radius: 0.25em;background-color: #f0f8ff;}#sk-container-id-6 input.sk-toggleable__control:checked~div.sk-toggleable__content {max-height: 200px;max-width: 100%;overflow: auto;}#sk-container-id-6 input.sk-toggleable__control:checked~label.sk-toggleable__label-arrow:before {content: \"▾\";}#sk-container-id-6 div.sk-estimator input.sk-toggleable__control:checked~label.sk-toggleable__label {background-color: #d4ebff;}#sk-container-id-6 div.sk-label input.sk-toggleable__control:checked~label.sk-toggleable__label {background-color: #d4ebff;}#sk-container-id-6 input.sk-hidden--visually {border: 0;clip: rect(1px 1px 1px 1px);clip: rect(1px, 1px, 1px, 1px);height: 1px;margin: -1px;overflow: hidden;padding: 0;position: absolute;width: 1px;}#sk-container-id-6 div.sk-estimator {font-family: monospace;background-color: #f0f8ff;border: 1px dotted black;border-radius: 0.25em;box-sizing: border-box;margin-bottom: 0.5em;}#sk-container-id-6 div.sk-estimator:hover {background-color: #d4ebff;}#sk-container-id-6 div.sk-parallel-item::after {content: \"\";width: 100%;border-bottom: 1px solid gray;flex-grow: 1;}#sk-container-id-6 div.sk-label:hover label.sk-toggleable__label {background-color: #d4ebff;}#sk-container-id-6 div.sk-serial::before {content: \"\";position: absolute;border-left: 1px solid gray;box-sizing: border-box;top: 0;bottom: 0;left: 50%;z-index: 0;}#sk-container-id-6 div.sk-serial {display: flex;flex-direction: column;align-items: center;background-color: white;padding-right: 0.2em;padding-left: 0.2em;position: relative;}#sk-container-id-6 div.sk-item {position: relative;z-index: 1;}#sk-container-id-6 div.sk-parallel {display: flex;align-items: stretch;justify-content: center;background-color: white;position: relative;}#sk-container-id-6 div.sk-item::before, #sk-container-id-6 div.sk-parallel-item::before {content: \"\";position: absolute;border-left: 1px solid gray;box-sizing: border-box;top: 0;bottom: 0;left: 50%;z-index: -1;}#sk-container-id-6 div.sk-parallel-item {display: flex;flex-direction: column;z-index: 1;position: relative;background-color: white;}#sk-container-id-6 div.sk-parallel-item:first-child::after {align-self: flex-end;width: 50%;}#sk-container-id-6 div.sk-parallel-item:last-child::after {align-self: flex-start;width: 50%;}#sk-container-id-6 div.sk-parallel-item:only-child::after {width: 0;}#sk-container-id-6 div.sk-dashed-wrapped {border: 1px dashed gray;margin: 0 0.4em 0.5em 0.4em;box-sizing: border-box;padding-bottom: 0.4em;background-color: white;}#sk-container-id-6 div.sk-label label {font-family: monospace;font-weight: bold;display: inline-block;line-height: 1.2em;}#sk-container-id-6 div.sk-label-container {text-align: center;}#sk-container-id-6 div.sk-container {/* jupyter's `normalize.less` sets `[hidden] { display: none; }` but bootstrap.min.css set `[hidden] { display: none !important; }` so we also need the `!important` here to be able to override the default hidden behavior on the sphinx rendered scikit-learn.org. See: https://github.com/scikit-learn/scikit-learn/issues/21755 */display: inline-block !important;position: relative;}#sk-container-id-6 div.sk-text-repr-fallback {display: none;}</style><div id=\"sk-container-id-6\" class=\"sk-top-container\"><div class=\"sk-text-repr-fallback\"><pre>KNeighborsRegressor(n_neighbors=3)</pre><b>In a Jupyter environment, please rerun this cell to show the HTML representation or trust the notebook. <br />On GitHub, the HTML representation is unable to render, please try loading this page with nbviewer.org.</b></div><div class=\"sk-container\" hidden><div class=\"sk-item\"><div class=\"sk-estimator sk-toggleable\"><input class=\"sk-toggleable__control sk-hidden--visually\" id=\"sk-estimator-id-6\" type=\"checkbox\" checked><label for=\"sk-estimator-id-6\" class=\"sk-toggleable__label sk-toggleable__label-arrow\">KNeighborsRegressor</label><div class=\"sk-toggleable__content\"><pre>KNeighborsRegressor(n_neighbors=3)</pre></div></div></div></div></div>"
            ],
            "text/plain": [
              "KNeighborsRegressor(n_neighbors=3)"
            ]
          },
          "execution_count": 95,
          "metadata": {},
          "output_type": "execute_result"
        }
      ],
      "source": [
        "from sklearn.neighbors import KNeighborsClassifier\n",
        "from sklearn.preprocessing import LabelEncoder  #used to convert labels to integers\n",
        "from sklearn.neighbors import KNeighborsRegressor\n",
        "knn = KNeighborsRegressor(n_neighbors=3)            #using regression here as the y_train values are continous and not discrete\n",
        "# Training the regressor\n",
        "knn.fit(X_Train, Y_Train)"
      ]
    },
    {
      "cell_type": "markdown",
      "id": "ab6c340c",
      "metadata": {
        "id": "ab6c340c"
      },
      "source": [
        "A6. Test the accuracy of the kNNusing the test set obtained from above exercise."
      ]
    },
    {
      "cell_type": "code",
      "execution_count": null,
      "id": "0da69218",
      "metadata": {
        "id": "0da69218",
        "outputId": "1e6589ea-7a03-407f-ecf5-d0f81225720f"
      },
      "outputs": [
        {
          "name": "stdout",
          "output_type": "stream",
          "text": [
            "Accuracy: 0.26910003052633436\n"
          ]
        }
      ],
      "source": [
        "#Calculate the accuracy of the kNN classifier on the test set\n",
        "accuracy = knn.score(X_Test, Y_Test)    #score(): method to return the mean accuracy on the given dataset and labels. The accuracy value will be between 0 and 1, where 1 represents a perfect prediction.\n",
        "print(\"Accuracy:\", accuracy)"
      ]
    },
    {
      "cell_type": "markdown",
      "id": "5ddb43b0",
      "metadata": {
        "id": "5ddb43b0"
      },
      "source": [
        "A7.Use the predict() function to study the prediction behavior of the classifier for test vectors."
      ]
    },
    {
      "cell_type": "code",
      "execution_count": null,
      "id": "c86173e1",
      "metadata": {
        "scrolled": false,
        "id": "c86173e1",
        "outputId": "957f7afc-9554-49ef-9f6f-574683c6e6b1"
      },
      "outputs": [
        {
          "name": "stdout",
          "output_type": "stream",
          "text": [
            "Predicted labels:\n",
            "[-0.02083319 -0.02055517 -0.02692434 -0.03663652 -0.02665348 -0.02630889\n",
            " -0.03127179 -0.01004201 -0.01080981 -0.01224249 -0.0180552  -0.01980415\n",
            " -0.02773031 -0.01622231 -0.03794583 -0.0375789  -0.01918284 -0.02391689\n",
            " -0.01400778 -0.01325827 -0.02686621 -0.02127205 -0.0201616  -0.02370403\n",
            " -0.03240223 -0.00565731 -0.01337921 -0.01231107 -0.02498185 -0.01835036\n",
            " -0.02822533 -0.02101326 -0.02598897 -0.02598968 -0.02212124 -0.02289729\n",
            " -0.01672267 -0.01178713 -0.0357108  -0.02996049 -0.00518574 -0.0324085\n",
            " -0.03476314 -0.01670494 -0.01515334 -0.0153668  -0.02318467 -0.02329467\n",
            " -0.02458811 -0.00999943 -0.02055735 -0.01124649 -0.02062439 -0.02391827\n",
            " -0.02446232 -0.01981818 -0.01817206 -0.0212317  -0.02425308 -0.02189546\n",
            " -0.00634815 -0.01925654 -0.02527598 -0.01221924 -0.02167488 -0.02978044\n",
            " -0.00989201 -0.02836932 -0.02984229 -0.01280012 -0.01885084 -0.00579298\n",
            " -0.01237001 -0.03677778 -0.0227156  -0.03034946 -0.0168973  -0.02402442\n",
            " -0.01597065 -0.01436569 -0.02515982 -0.01505829 -0.01624077 -0.01173173\n",
            " -0.0235668  -0.00753194 -0.02346256 -0.0280609  -0.0257658  -0.01453262\n",
            " -0.01267023 -0.01746248 -0.02510263 -0.013773   -0.01687999 -0.03263339\n",
            " -0.0135416  -0.02578479 -0.0129264  -0.01873224 -0.01595846 -0.01843206\n",
            " -0.03103559 -0.0318237  -0.0219124  -0.02466763 -0.01564206 -0.02402119\n",
            " -0.01301699 -0.03193134 -0.01513044 -0.02546488 -0.01280012 -0.02358413\n",
            " -0.02157627 -0.0248011  -0.01391989 -0.02526246 -0.01424354 -0.02744392\n",
            " -0.02784042 -0.0289116  -0.02444321 -0.01416598 -0.02298612 -0.00917125\n",
            " -0.01981087 -0.01296527 -0.01296863 -0.02545284 -0.01839262 -0.02780673\n",
            " -0.02246169 -0.00510416 -0.0172633  -0.00519816 -0.0106855  -0.01687387\n",
            " -0.02891714 -0.02360236 -0.01705293 -0.01730287 -0.02227096 -0.02791076\n",
            " -0.02033581 -0.01307051 -0.01632882 -0.01210798 -0.02522026 -0.00433229\n",
            " -0.00230386 -0.01866112 -0.01853028 -0.03009776 -0.03574115 -0.02053587\n",
            " -0.0120271  -0.02380757 -0.01565101 -0.00863134 -0.01512612 -0.02470261\n",
            " -0.0177372  -0.01442497 -0.02660365 -0.02805673 -0.00990386 -0.02268295\n",
            " -0.01377056 -0.01100424 -0.02154938 -0.03565855 -0.00928191 -0.02777406\n",
            " -0.01503316 -0.01455009 -0.0134513  -0.01809596 -0.00845523 -0.01986993\n",
            " -0.01068771 -0.01032273 -0.03079432 -0.0212903  -0.02939641 -0.01068771\n",
            " -0.02954518 -0.02314569 -0.030298   -0.00731073 -0.01580557 -0.01966016\n",
            " -0.02193659 -0.01467338 -0.02183047 -0.0107518  -0.02326128 -0.02653197\n",
            " -0.01649087 -0.01644963 -0.02236443 -0.01246713 -0.01966959 -0.01963273\n",
            " -0.0187889  -0.01959222 -0.01953697 -0.02051835 -0.02508463 -0.02200027\n",
            " -0.01826306 -0.02368992 -0.02078884 -0.02904228 -0.02161341 -0.02337552\n",
            " -0.02368189 -0.01638523 -0.01739647 -0.02285224 -0.01856149 -0.01668801\n",
            " -0.01407971 -0.0245551  -0.03256304 -0.02051335 -0.0177372   0.00213788\n",
            " -0.01962987 -0.02829132 -0.02377959 -0.01054741 -0.02050123 -0.02248095\n",
            " -0.01048915 -0.01854592 -0.02012039 -0.01045026 -0.01625378 -0.02630306\n",
            " -0.02366195 -0.02490015 -0.028452   -0.02697019 -0.03037519 -0.02343396\n",
            " -0.0156517  -0.02878358 -0.0116262  -0.02051494 -0.0075837  -0.02715314\n",
            " -0.01978894 -0.02264387 -0.02209517 -0.02734255 -0.01931683 -0.02222461\n",
            " -0.02227436 -0.03714085 -0.02327848 -0.02707521 -0.02827807 -0.01828801\n",
            " -0.01746248 -0.01576231 -0.0070214  -0.01585967 -0.02588421 -0.01622486]\n"
          ]
        }
      ],
      "source": [
        "# Making predictions on the test vectors\n",
        "p = knn.predict(X_Test)\n",
        "# Predicting class labels for the test vectors\n",
        "print(\"Predicted labels:\")      #predict() function of the kNN classifier to study the prediction behavior for test vectors. The predict() function takes the test vectors as input and returns the predicted class labels\n",
        "print(p)\n",
        "\n",
        "#output obtained from the code will be the predicted class labels for the test vectors. Each element in the output array corresponds to the predicted class label for the corresponding test vector.\n",
        "#The predicted class labels can provide insights into how the kNN classifier is categorizing or classifying the test vectors based on the patterns it learned during training. You can compare these predicted labels with the true labels (test_labels) to evaluate the accuracy or other performance metrics of the classifier."
      ]
    },
    {
      "cell_type": "markdown",
      "id": "d095e8ee",
      "metadata": {
        "id": "d095e8ee"
      },
      "source": [
        "A8. Make k = 1 to implement NN classifier and compare the results with kNN (k = 3). Vary k from 1 to 11 and make an accuracy plot."
      ]
    },
    {
      "cell_type": "code",
      "execution_count": null,
      "id": "b9c7057a",
      "metadata": {
        "id": "b9c7057a",
        "outputId": "bc532da1-3b29-48ea-8549-5e9690ed1bad"
      },
      "outputs": [
        {
          "name": "stdout",
          "output_type": "stream",
          "text": [
            "Results for NN (k=1):\n",
            "MSE: 0.00012546454023971257\n",
            "R-squared score: -0.23194785411400365\n",
            "\n",
            "Results for kNN (k=3):\n",
            "MSE: 7.732513036150924e-05\n",
            "R-squared score: 0.24073743676147763\n"
          ]
        }
      ],
      "source": [
        "#the comparisons of two KNN values is always made after the predicting the values for the given value of K. Mean square error and R-squared error is used to perform the comparisons\n",
        "# Mean Squared Error: Mean Squared Error (MSE) is a commonly used metric to evaluate the performance of regression models. It measures the average squared difference between the predicted values and the true values of the target variable.\n",
        "#R- Squared Error:\n",
        "\n",
        "from sklearn.metrics import classification_report   #for classification values\n",
        "from sklearn.metrics import r2_score    #for continous values where regression is to be applied\n",
        "from sklearn.neighbors import RadiusNeighborsRegressor  #Radius neighbour regressor is used for predicting \"continuous target variables\" based on the values of the nearest neighbors within a specified radius.\n",
        "from sklearn.metrics import mean_squared_error, r2_score\n",
        "from sklearn.metrics import confusion_matrix\n",
        "\n",
        "# Train the NN classifier with k=1\n",
        "nn = KNeighborsRegressor(n_neighbors=1)\n",
        "nn.fit(X_Train, Y_Train)\n",
        "\n",
        "# Train the kNN classifier with k=3\n",
        "knn = KNeighborsRegressor(n_neighbors=3)\n",
        "knn.fit(X_Train, Y_Train)\n",
        "\n",
        "# Make predictions on the test set\n",
        "nn_predictions = nn.predict(X_Test)\n",
        "knn_predictions = knn.predict(X_Test)\n",
        "\n",
        "# Calculate the mean squared error (MSE)\n",
        "nn_mse = mean_squared_error(Y_Test, nn_predictions)\n",
        "knn_mse = mean_squared_error(Y_Test, knn_predictions)\n",
        "\n",
        "# Calculate the R-squared score\n",
        "nn_r2 = r2_score(Y_Test, nn_predictions)\n",
        "knn_r2 = r2_score(Y_Test, knn_predictions)\n",
        "\n",
        "# Print the results\n",
        "print(\"Results for NN (k=1):\")\n",
        "print(\"MSE:\", nn_mse)\n",
        "print(\"R-squared score:\", nn_r2)\n",
        "\n",
        "print(\"\\nResults for kNN (k=3):\")\n",
        "print(\"MSE:\", knn_mse)\n",
        "print(\"R-squared score:\", knn_r2)\n"
      ]
    },
    {
      "cell_type": "code",
      "execution_count": 17,
      "id": "c23d2c0a",
      "metadata": {
        "colab": {
          "base_uri": "https://localhost:8080/",
          "height": 487
        },
        "id": "c23d2c0a",
        "outputId": "ef0e6215-ae20-4492-b048-38a415c42967"
      },
      "outputs": [
        {
          "output_type": "display_data",
          "data": {
            "text/plain": [
              "<Figure size 800x500 with 1 Axes>"
            ],
            "image/png": "[encoded data removed]"
          },
          "metadata": {}
        }
      ],
      "source": [
        "import matplotlib.pyplot as plt\n",
        "from sklearn.neighbors import KNeighborsRegressor\n",
        "from sklearn.metrics import mean_squared_error, r2_score\n",
        "\n",
        "predictions1 = []\n",
        "predictions2 = []\n",
        "\n",
        "for k in range(1, 11):\n",
        "    knn = KNeighborsRegressor(n_neighbors=k)\n",
        "    knn.fit(X_Train, Y_Train)           #fit() used to train the regressor\n",
        "    knn_predictions = knn.predict(X_Test)\n",
        "    knn_mse = mean_squared_error(Y_Test, knn_predictions)\n",
        "    knn_r2 = r2_score(Y_Test, knn_predictions)\n",
        "    predictions1.append(knn_mse)\n",
        "    predictions2.append(knn_r2)\n",
        "\n",
        "plt.figure(figsize=(8, 5))\n",
        "plt.plot(range(1, 11), predictions1, marker='o', linestyle='--', color='red', label='MSE values')\n",
        "plt.plot(range(1, 11), predictions2, marker='o', linestyle='--', color='orange', label='R^2 values')  # Add a label for the second plot\n",
        "plt.xlabel('K-Values')\n",
        "plt.ylabel('Value')\n",
        "plt.title('Accuracy plot')\n",
        "plt.grid(True)\n",
        "plt.legend()  # Add this line to display the legend\n",
        "plt.show()\n"
      ]
    },
    {
      "cell_type": "markdown",
      "id": "d85bb7b6",
      "metadata": {
        "id": "d85bb7b6"
      },
      "source": [
        "A9. Please evaluate confusion matrix for your classification problem."
      ]
    },
    {
      "cell_type": "code",
      "execution_count": null,
      "id": "719c020a",
      "metadata": {
        "scrolled": true,
        "id": "719c020a",
        "outputId": "7bf20e5b-994e-4f48-f7dd-0de86be87f54"
      },
      "outputs": [
        {
          "name": "stdout",
          "output_type": "stream",
          "text": [
            "[[180 219]\n",
            " [ 27  24]]\n"
          ]
        }
      ],
      "source": [
        "#initializing the data into an array using the numpy library\n",
        "data = np.array(data)\n",
        "threshold = 5\n",
        "y_binary = np.where(y > threshold, 1, 0)\n",
        "# Assuming your dataset is stored in a variable called 'data'\n",
        "# Splitting the dataset into features (X) and labels (y)\n",
        "X = data[:, :-1]  # Assuming the last column is the target variable\n",
        "y = data[:, -1]   # Assuming the last column is the target variable\n",
        "# Splitting the dataset into train and test sets\n",
        "X1_train, X1_test, y1_train, y1_test = train_test_split(X, y_binary, test_size=0.5, random_state=42)\n",
        "y_prediction = knn.predict(X_Test)\n",
        "absolute = abs(y_prediction)\n",
        "threshold = 0.02\n",
        "# Convert continuous values to discrete values\n",
        "discrete_values = [1 if value >= threshold else 0 for value in absolute]\n",
        "cn = confusion_matrix(y1_test,discrete_values)\n",
        "print(cn)"
      ]
    },
    {
      "cell_type": "code",
      "execution_count": null,
      "id": "ee114314",
      "metadata": {
        "scrolled": true,
        "id": "ee114314",
        "outputId": "ab958c5a-ec46-44ec-fe05-514f5e2004dc"
      },
      "outputs": [
        {
          "name": "stdout",
          "output_type": "stream",
          "text": [
            "The accuracy value is:  0.4533333333333333\n",
            "The precision value is:  0.45112781954887216\n",
            "The recall value is:  0.8695652173913043\n",
            "The f1Score value is 0.594059405940594\n"
          ]
        }
      ],
      "source": [
        "tp = cn[0][0]\n",
        "fp = cn[0][1]\n",
        "fn = cn[1][0]\n",
        "tn = cn[1][1]\n",
        "\n",
        "accuracy = (tp + tn) / (tp + tn + fp + fn)\n",
        "precision = tp / (tp + fp)\n",
        "recall = tp / (tp + fn)\n",
        "f1Score =  2 * (precision * recall) / (precision + recall)\n",
        "\n",
        "print(\"The accuracy value is: \",accuracy)\n",
        "print(\"The precision value is: \",precision)\n",
        "print(\"The recall value is: \",recall)\n",
        "print(\"The f1Score value is\",f1Score)"
      ]
    }
  ],
  "metadata": {
    "kernelspec": {
      "display_name": "Python 3 (ipykernel)",
      "language": "python",
      "name": "python3"
    },
    "language_info": {
      "codemirror_mode": {
        "name": "ipython",
        "version": 3
      },
      "file_extension": ".py",
      "mimetype": "text/x-python",
      "name": "python",
      "nbconvert_exporter": "python",
      "pygments_lexer": "ipython3",
      "version": "3.9.6"
    },
    "colab": {
      "provenance": []
    }
  },
  "nbformat": 4,
  "nbformat_minor": 5
}