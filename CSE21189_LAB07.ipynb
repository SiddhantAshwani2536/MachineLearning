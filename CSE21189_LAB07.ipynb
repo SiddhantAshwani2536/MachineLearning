{
  "cells": [
    {
      "cell_type": "markdown",
      "metadata": {
        "id": "7KbrCz0iAttW"
      },
      "source": [
        "Siddhant Ashwani BL.EN.U4CSE21189"
      ]
    },
    {
      "cell_type": "code",
      "execution_count": null,
      "metadata": {
        "id": "SUhx6uGBAttY"
      },
      "outputs": [],
      "source": [
        "import pandas as pd\n",
        "from sklearn.model_selection import train_test_split\n",
        "from sklearn.svm import SVC\n",
        "from sklearn.metrics import accuracy_score, classification_report, confusion_matrix\n",
        "data1 = pd.read_excel(r\"/content/embeddingsdata.xlsx\")\n",
        "df = pd.DataFrame(data1)"
      ]
    },
    {
      "cell_type": "markdown",
      "metadata": {
        "id": "mDUhFPh0Attb"
      },
      "source": [
        "A1. Train a support vector machine using the training set obtained from above exercise you’re yourdataset has multiple classes, take any two classes for this exercise"
      ]
    },
    {
      "cell_type": "code",
      "execution_count": null,
      "metadata": {
        "colab": {
          "base_uri": "https://localhost:8080/"
        },
        "id": "SaP8ik0IAttb",
        "outputId": "3cdee1fb-a1f3-4064-ec2c-c235f3affba3"
      },
      "outputs": [
        {
          "output_type": "stream",
          "name": "stdout",
          "text": [
            "Accuracy: 0.6055555555555555\n"
          ]
        }
      ],
      "source": [
        "data = pd.read_excel(r\"/content/embeddingsdata.xlsx\")\n",
        "X = data.iloc[:, :-1]\n",
        "y = data.iloc[:, -1]\n",
        "X_train, X_test, y_train, y_test = train_test_split(X, y, test_size=0.2, random_state=42)\n",
        "svmModel = SVC(kernel='linear')\n",
        "svmModel.fit(X_train, y_train)\n",
        "yPred = svmModel.predict(X_test)\n",
        "accuracy = accuracy_score(y_test, yPred)\n",
        "print(f'Accuracy: {accuracy}')"
      ]
    },
    {
      "cell_type": "markdown",
      "metadata": {
        "id": "MswKRQI9Attc"
      },
      "source": [
        "A2. Test the accuracy of the SVM using the test set obtained from above exercise. Following code for help."
      ]
    },
    {
      "cell_type": "code",
      "execution_count": null,
      "metadata": {
        "colab": {
          "base_uri": "https://localhost:8080/"
        },
        "id": "Mnj7RJ6bAttc",
        "outputId": "aca4fffd-0a5f-4f0f-a866-d3535467401a"
      },
      "outputs": [
        {
          "output_type": "stream",
          "name": "stdout",
          "text": [
            "Accuracy: 0.6055555555555555\n",
            "\n",
            "Classification Report:\n",
            "              precision    recall  f1-score   support\n",
            "\n",
            "           0       0.52      0.97      0.68        68\n",
            "           1       0.80      0.83      0.81        52\n",
            "           2       0.00      0.00      0.00        23\n",
            "           3       0.00      0.00      0.00         3\n",
            "           4       0.00      0.00      0.00         5\n",
            "           5       0.00      0.00      0.00        12\n",
            "           6       0.00      0.00      0.00         4\n",
            "           7       0.00      0.00      0.00         2\n",
            "           8       0.00      0.00      0.00         1\n",
            "           9       0.00      0.00      0.00         6\n",
            "          10       0.00      0.00      0.00         4\n",
            "\n",
            "    accuracy                           0.61       180\n",
            "   macro avg       0.12      0.16      0.14       180\n",
            "weighted avg       0.43      0.61      0.49       180\n",
            "\n",
            "\n",
            "Confusion Matrix:\n",
            "[[66  2  0  0  0  0  0  0  0  0  0]\n",
            " [ 9 43  0  0  0  0  0  0  0  0  0]\n",
            " [21  2  0  0  0  0  0  0  0  0  0]\n",
            " [ 1  2  0  0  0  0  0  0  0  0  0]\n",
            " [ 5  0  0  0  0  0  0  0  0  0  0]\n",
            " [ 9  3  0  0  0  0  0  0  0  0  0]\n",
            " [ 4  0  0  0  0  0  0  0  0  0  0]\n",
            " [ 0  2  0  0  0  0  0  0  0  0  0]\n",
            " [ 1  0  0  0  0  0  0  0  0  0  0]\n",
            " [ 6  0  0  0  0  0  0  0  0  0  0]\n",
            " [ 4  0  0  0  0  0  0  0  0  0  0]]\n"
          ]
        },
        {
          "output_type": "stream",
          "name": "stderr",
          "text": [
            "/usr/local/lib/python3.10/dist-packages/sklearn/metrics/_classification.py:1344: UndefinedMetricWarning: Precision and F-score are ill-defined and being set to 0.0 in labels with no predicted samples. Use `zero_division` parameter to control this behavior.\n",
            "  _warn_prf(average, modifier, msg_start, len(result))\n",
            "/usr/local/lib/python3.10/dist-packages/sklearn/metrics/_classification.py:1344: UndefinedMetricWarning: Precision and F-score are ill-defined and being set to 0.0 in labels with no predicted samples. Use `zero_division` parameter to control this behavior.\n",
            "  _warn_prf(average, modifier, msg_start, len(result))\n",
            "/usr/local/lib/python3.10/dist-packages/sklearn/metrics/_classification.py:1344: UndefinedMetricWarning: Precision and F-score are ill-defined and being set to 0.0 in labels with no predicted samples. Use `zero_division` parameter to control this behavior.\n",
            "  _warn_prf(average, modifier, msg_start, len(result))\n"
          ]
        }
      ],
      "source": [
        "yPred = svmModel.predict(X_test)\n",
        "accuracy = svmModel.score(X_test, y_test)\n",
        "print(f'Accuracy: {accuracy}')\n",
        "print('\\nClassification Report:')\n",
        "print(classification_report(y_test, yPred))\n",
        "print('\\nConfusion Matrix:')\n",
        "print(confusion_matrix(y_test, yPred))"
      ]
    },
    {
      "cell_type": "markdown",
      "metadata": {
        "id": "r1miJ5WYAttc"
      },
      "source": [
        "A3. Use the Predict function of SVC classifier to study the output values of the classifier. Relate the output value to the class value predicted. Test the accuracy of the SVM, with your own logic of class determination and comparing against the class labels, using the test set obtained from above exercise. Following code for help."
      ]
    },
    {
      "cell_type": "code",
      "execution_count": null,
      "metadata": {
        "colab": {
          "base_uri": "https://localhost:8080/"
        },
        "id": "Wj0OkQ6yAttc",
        "outputId": "5f0974af-be47-47dd-b9d5-8563437027b9"
      },
      "outputs": [
        {
          "output_type": "stream",
          "name": "stdout",
          "text": [
            "Sample 1: Predicted=1, Actual=2\n",
            "Sample 2: Predicted=0, Actual=1\n",
            "Sample 3: Predicted=1, Actual=1\n",
            "Sample 4: Predicted=0, Actual=0\n",
            "Sample 5: Predicted=0, Actual=0\n",
            "Sample 6: Predicted=0, Actual=2\n",
            "Sample 7: Predicted=0, Actual=0\n",
            "Sample 8: Predicted=0, Actual=0\n",
            "Sample 9: Predicted=1, Actual=1\n",
            "Sample 10: Predicted=0, Actual=0\n",
            "Sample 11: Predicted=0, Actual=0\n",
            "Sample 12: Predicted=0, Actual=8\n",
            "Sample 13: Predicted=0, Actual=2\n",
            "Sample 14: Predicted=0, Actual=0\n",
            "Sample 15: Predicted=0, Actual=0\n",
            "Sample 16: Predicted=0, Actual=0\n",
            "Sample 17: Predicted=0, Actual=0\n",
            "Sample 18: Predicted=1, Actual=1\n",
            "Sample 19: Predicted=0, Actual=10\n",
            "Sample 20: Predicted=0, Actual=1\n",
            "Sample 21: Predicted=1, Actual=1\n",
            "Sample 22: Predicted=0, Actual=0\n",
            "Sample 23: Predicted=0, Actual=1\n",
            "Sample 24: Predicted=0, Actual=4\n",
            "Sample 25: Predicted=1, Actual=7\n",
            "Sample 26: Predicted=0, Actual=0\n",
            "Sample 27: Predicted=0, Actual=0\n",
            "Sample 28: Predicted=0, Actual=1\n",
            "Sample 29: Predicted=0, Actual=0\n",
            "Sample 30: Predicted=0, Actual=6\n",
            "Sample 31: Predicted=0, Actual=5\n",
            "Sample 32: Predicted=1, Actual=1\n",
            "Sample 33: Predicted=0, Actual=0\n",
            "Sample 34: Predicted=0, Actual=5\n",
            "Sample 35: Predicted=0, Actual=0\n",
            "Sample 36: Predicted=1, Actual=1\n",
            "Sample 37: Predicted=1, Actual=1\n",
            "Sample 38: Predicted=0, Actual=0\n",
            "Sample 39: Predicted=1, Actual=1\n",
            "Sample 40: Predicted=1, Actual=1\n",
            "Sample 41: Predicted=0, Actual=0\n",
            "Sample 42: Predicted=0, Actual=0\n",
            "Sample 43: Predicted=0, Actual=2\n",
            "Sample 44: Predicted=0, Actual=0\n",
            "Sample 45: Predicted=0, Actual=0\n",
            "Sample 46: Predicted=0, Actual=0\n",
            "Sample 47: Predicted=1, Actual=1\n",
            "Sample 48: Predicted=1, Actual=1\n",
            "Sample 49: Predicted=0, Actual=6\n",
            "Sample 50: Predicted=0, Actual=2\n",
            "Sample 51: Predicted=0, Actual=9\n",
            "Sample 52: Predicted=0, Actual=1\n",
            "Sample 53: Predicted=1, Actual=1\n",
            "Sample 54: Predicted=0, Actual=0\n",
            "Sample 55: Predicted=1, Actual=1\n",
            "Sample 56: Predicted=1, Actual=1\n",
            "Sample 57: Predicted=1, Actual=1\n",
            "Sample 58: Predicted=0, Actual=4\n",
            "Sample 59: Predicted=0, Actual=2\n",
            "Sample 60: Predicted=1, Actual=5\n",
            "Sample 61: Predicted=0, Actual=0\n",
            "Sample 62: Predicted=0, Actual=4\n",
            "Sample 63: Predicted=0, Actual=0\n",
            "Sample 64: Predicted=0, Actual=10\n",
            "Sample 65: Predicted=1, Actual=1\n",
            "Sample 66: Predicted=1, Actual=1\n",
            "Sample 67: Predicted=0, Actual=0\n",
            "Sample 68: Predicted=1, Actual=5\n",
            "Sample 69: Predicted=1, Actual=2\n",
            "Sample 70: Predicted=0, Actual=10\n",
            "Sample 71: Predicted=0, Actual=0\n",
            "Sample 72: Predicted=0, Actual=9\n",
            "Sample 73: Predicted=0, Actual=0\n",
            "Sample 74: Predicted=0, Actual=1\n",
            "Sample 75: Predicted=0, Actual=2\n",
            "Sample 76: Predicted=0, Actual=2\n",
            "Sample 77: Predicted=0, Actual=5\n",
            "Sample 78: Predicted=0, Actual=0\n",
            "Sample 79: Predicted=1, Actual=1\n",
            "Sample 80: Predicted=0, Actual=5\n",
            "Sample 81: Predicted=0, Actual=6\n",
            "Sample 82: Predicted=1, Actual=1\n",
            "Sample 83: Predicted=0, Actual=2\n",
            "Sample 84: Predicted=0, Actual=0\n",
            "Sample 85: Predicted=0, Actual=2\n",
            "Sample 86: Predicted=0, Actual=0\n",
            "Sample 87: Predicted=0, Actual=0\n",
            "Sample 88: Predicted=1, Actual=1\n",
            "Sample 89: Predicted=0, Actual=0\n",
            "Sample 90: Predicted=0, Actual=9\n",
            "Sample 91: Predicted=0, Actual=0\n",
            "Sample 92: Predicted=1, Actual=1\n",
            "Sample 93: Predicted=0, Actual=5\n",
            "Sample 94: Predicted=1, Actual=1\n",
            "Sample 95: Predicted=0, Actual=0\n",
            "Sample 96: Predicted=1, Actual=0\n",
            "Sample 97: Predicted=0, Actual=0\n",
            "Sample 98: Predicted=0, Actual=0\n",
            "Sample 99: Predicted=0, Actual=0\n",
            "Sample 100: Predicted=0, Actual=0\n",
            "Sample 101: Predicted=0, Actual=6\n",
            "Sample 102: Predicted=1, Actual=1\n",
            "Sample 103: Predicted=1, Actual=1\n",
            "Sample 104: Predicted=1, Actual=1\n",
            "Sample 105: Predicted=0, Actual=2\n",
            "Sample 106: Predicted=1, Actual=1\n",
            "Sample 107: Predicted=1, Actual=1\n",
            "Sample 108: Predicted=1, Actual=1\n",
            "Sample 109: Predicted=0, Actual=1\n",
            "Sample 110: Predicted=1, Actual=1\n",
            "Sample 111: Predicted=0, Actual=2\n",
            "Sample 112: Predicted=0, Actual=0\n",
            "Sample 113: Predicted=0, Actual=0\n",
            "Sample 114: Predicted=0, Actual=9\n",
            "Sample 115: Predicted=0, Actual=5\n",
            "Sample 116: Predicted=1, Actual=7\n",
            "Sample 117: Predicted=0, Actual=2\n",
            "Sample 118: Predicted=0, Actual=0\n",
            "Sample 119: Predicted=0, Actual=0\n",
            "Sample 120: Predicted=0, Actual=5\n",
            "Sample 121: Predicted=0, Actual=0\n",
            "Sample 122: Predicted=0, Actual=0\n",
            "Sample 123: Predicted=1, Actual=1\n",
            "Sample 124: Predicted=0, Actual=2\n",
            "Sample 125: Predicted=0, Actual=2\n",
            "Sample 126: Predicted=0, Actual=0\n",
            "Sample 127: Predicted=0, Actual=4\n",
            "Sample 128: Predicted=0, Actual=0\n",
            "Sample 129: Predicted=1, Actual=1\n",
            "Sample 130: Predicted=0, Actual=0\n",
            "Sample 131: Predicted=0, Actual=2\n",
            "Sample 132: Predicted=0, Actual=0\n",
            "Sample 133: Predicted=0, Actual=2\n",
            "Sample 134: Predicted=0, Actual=0\n",
            "Sample 135: Predicted=0, Actual=0\n",
            "Sample 136: Predicted=0, Actual=0\n",
            "Sample 137: Predicted=1, Actual=1\n",
            "Sample 138: Predicted=1, Actual=0\n",
            "Sample 139: Predicted=0, Actual=2\n",
            "Sample 140: Predicted=1, Actual=1\n",
            "Sample 141: Predicted=1, Actual=1\n",
            "Sample 142: Predicted=0, Actual=3\n",
            "Sample 143: Predicted=0, Actual=0\n",
            "Sample 144: Predicted=0, Actual=2\n",
            "Sample 145: Predicted=1, Actual=1\n",
            "Sample 146: Predicted=0, Actual=1\n",
            "Sample 147: Predicted=0, Actual=5\n",
            "Sample 148: Predicted=0, Actual=0\n",
            "Sample 149: Predicted=1, Actual=1\n",
            "Sample 150: Predicted=0, Actual=0\n",
            "Sample 151: Predicted=0, Actual=0\n",
            "Sample 152: Predicted=0, Actual=0\n",
            "Sample 153: Predicted=1, Actual=1\n",
            "Sample 154: Predicted=1, Actual=5\n",
            "Sample 155: Predicted=1, Actual=1\n",
            "Sample 156: Predicted=0, Actual=0\n",
            "Sample 157: Predicted=1, Actual=1\n",
            "Sample 158: Predicted=0, Actual=4\n",
            "Sample 159: Predicted=0, Actual=0\n",
            "Sample 160: Predicted=1, Actual=1\n",
            "Sample 161: Predicted=0, Actual=0\n",
            "Sample 162: Predicted=0, Actual=0\n",
            "Sample 163: Predicted=0, Actual=0\n",
            "Sample 164: Predicted=0, Actual=2\n",
            "Sample 165: Predicted=1, Actual=1\n",
            "Sample 166: Predicted=1, Actual=3\n",
            "Sample 167: Predicted=1, Actual=1\n",
            "Sample 168: Predicted=0, Actual=0\n",
            "Sample 169: Predicted=0, Actual=5\n",
            "Sample 170: Predicted=1, Actual=3\n",
            "Sample 171: Predicted=0, Actual=2\n",
            "Sample 172: Predicted=0, Actual=0\n",
            "Sample 173: Predicted=0, Actual=1\n",
            "Sample 174: Predicted=0, Actual=10\n",
            "Sample 175: Predicted=0, Actual=9\n",
            "Sample 176: Predicted=0, Actual=2\n",
            "Sample 177: Predicted=0, Actual=9\n",
            "Sample 178: Predicted=0, Actual=0\n",
            "Sample 179: Predicted=0, Actual=0\n",
            "Sample 180: Predicted=1, Actual=1\n",
            "Accuracy with: 0.6055555555555555\n"
          ]
        }
      ],
      "source": [
        "y_pred = svmModel.predict(X_test)\n",
        "for i in range(len(X_test)):\n",
        "    print(f\"Sample {i + 1}: Predicted={y_pred[i]}, Actual={y_test.iloc[i]}\")\n",
        "your_logic_predictions = [1 if val > 0.5 else 0 for val in y_pred]\n",
        "logicAccuracy = accuracy_score(y_test, your_logic_predictions)\n",
        "print(f'Accuracy with: {logicAccuracy}')"
      ]
    },
    {
      "cell_type": "markdown",
      "metadata": {
        "id": "zq1RFXrTAttd"
      },
      "source": [
        "A4. Experiment with various kernel functions (‘linear’, ‘poly’, ‘rbf’&‘sigmoid’) to train and test the accuracy of the models."
      ]
    },
    {
      "cell_type": "code",
      "execution_count": null,
      "metadata": {
        "colab": {
          "base_uri": "https://localhost:8080/"
        },
        "id": "TWCq7NjPAttd",
        "outputId": "fde5655a-9834-447e-9c5d-55c2bb49bb92"
      },
      "outputs": [
        {
          "output_type": "stream",
          "name": "stdout",
          "text": [
            "Accuracy with linear kernel on validation set: 0.6111111111111112\n",
            "Accuracy with linear kernel on test set: 0.5555555555555556\n",
            "Accuracy with poly kernel on validation set: 0.6111111111111112\n",
            "Accuracy with poly kernel on test set: 0.5611111111111111\n",
            "Accuracy with rbf kernel on validation set: 0.6055555555555555\n",
            "Accuracy with rbf kernel on test set: 0.5555555555555556\n",
            "Accuracy with sigmoid kernel on validation set: 0.5888888888888889\n",
            "Accuracy with sigmoid kernel on test set: 0.5333333333333333\n"
          ]
        }
      ],
      "source": [
        "X_train, X_temp, y_train, y_temp = train_test_split(X, y, test_size=0.4, random_state=42)\n",
        "X_val, X_test, y_val, y_test = train_test_split(X_temp, y_temp, test_size=0.5, random_state=42)\n",
        "kernelFunctions = ['linear', 'poly', 'rbf', 'sigmoid']\n",
        "\n",
        "for kernel in kernelFunctions:\n",
        "    svmModel = SVC(kernel=kernel)\n",
        "    svmModel.fit(X_train, y_train)\n",
        "    y_pred_val = svmModel.predict(X_val)\n",
        "    accuracyVal = accuracy_score(y_val, y_pred_val)\n",
        "    print(f'Accuracy with {kernel} kernel on validation set: {accuracyVal}')\n",
        "    y_pred_test = svmModel.predict(X_test)\n",
        "    accuracy_test = accuracy_score(y_test, y_pred_test)\n",
        "    print(f'Accuracy with {kernel} kernel on test set: {accuracy_test}')"
      ]
    }
  ],
  "metadata": {
    "kernelspec": {
      "display_name": "Python 3",
      "language": "python",
      "name": "python3"
    },
    "language_info": {
      "codemirror_mode": {
        "name": "ipython",
        "version": 3
      },
      "file_extension": ".py",
      "mimetype": "text/x-python",
      "name": "python",
      "nbconvert_exporter": "python",
      "pygments_lexer": "ipython3",
      "version": "3.10.5"
    },
    "colab": {
      "provenance": []
    }
  },
  "nbformat": 4,
  "nbformat_minor": 0
}