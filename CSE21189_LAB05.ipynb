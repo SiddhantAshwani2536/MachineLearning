{
  "cells": [
    {
      "cell_type": "markdown",
      "metadata": {
        "id": "RLFYyFdqPYGc"
      },
      "source": [
        "Siddhant Ashwani\n",
        "\n",
        "\n",
        "\n",
        "\n",
        "\n",
        "\n",
        "BL.EN.U4CSE21189"
      ]
    },
    {
      "cell_type": "markdown",
      "metadata": {
        "id": "N3Yg5fBmPYGg"
      },
      "source": [
        "A1.Develop the above perceptronin your own code (don’t use the perceptron model available from package). Use the initial weights as provided below. W0 = 10, W1 = 0.2, w2 = -0.75, learning rate (α) = 0.05Use Stepactivation function to learn the weights of the network to implement above provided AND gate logic. The activation function is demonstratedbelow.Identify the number of epochs needed for the weights to converge in the learning process. Make a plot of the epochs against the error values calculated (after each epoch, calculate the sum-square-error against all training samples). (Note: Learning is said to be converged if the error is less than or equal to 0.002. Stop the learning after 1000 iterations if the convergence error condition is not met)"
      ]
    },
    {
      "cell_type": "code",
      "execution_count": 1,
      "metadata": {
        "id": "mmnyaahs1h1O"
      },
      "outputs": [],
      "source": [
        "import numpy as np\n",
        "import matplotlib.pyplot as plt\n",
        "import pandas as pd\n",
        "from sklearn.model_selection import train_test_split\n",
        "from sklearn.linear_model import Perceptron\n",
        "from sklearn.metrics import accuracy_score\n",
        "from sklearn.neural_network import MLPClassifier"
      ]
    },
    {
      "cell_type": "code",
      "execution_count": 3,
      "metadata": {
        "colab": {
          "base_uri": "https://localhost:8080/",
          "height": 508
        },
        "id": "45xGYXNiPYGh",
        "outputId": "ed5ab198-991e-407a-b14e-71e058c84a2d"
      },
      "outputs": [
        {
          "output_type": "display_data",
          "data": {
            "text/plain": [
              "<Figure size 640x480 with 1 Axes>"
            ],
            "image/png": "[encoded data removed]"
          },
          "metadata": {}
        },
        {
          "output_type": "stream",
          "name": "stdout",
          "text": [
            "Number of epochs needed for convergence: 130\n",
            "Final weights: w0 = -0.10000000000000765, w1 = 0.1000000000000001, w2 = 0.05000000000000032\n"
          ]
        }
      ],
      "source": [
        "def PerceptronForAndGate(initialW, learningR=0.05, convergenceErr=0.002, maxEpoch=1000):\n",
        "    # Initialize the weights and bias\n",
        "    w0, w1, w2 = initialW\n",
        "\n",
        "    # Step activation function\n",
        "    def stepActivation(x):\n",
        "        return 1 if x >= 0 else 0\n",
        "\n",
        "    # Calculating output of perceptron\n",
        "    def perceptronOutput(x1, x2):\n",
        "        return w0 + w1 * x1 + w2 * x2\n",
        "\n",
        "    # Training data\n",
        "    trainingData = [\n",
        "        (0, 0, 0),\n",
        "        (0, 1, 0),\n",
        "        (1, 0, 0),\n",
        "        (1, 1, 1)\n",
        "    ]\n",
        "\n",
        "    # Training loop\n",
        "    epochs = 0\n",
        "    errors = []\n",
        "\n",
        "    while True:\n",
        "        epoch_error = 0\n",
        "        for x1, x2, target in trainingData:\n",
        "            output = perceptronOutput(x1, x2)\n",
        "            error = target - stepActivation(output)\n",
        "            epoch_error = epoch_error + error ** 2\n",
        "            w0 = w0 + learningR * error\n",
        "            w1 = w1 + learningR * error * x1\n",
        "            w2 = w2 + learningR * error * x2\n",
        "\n",
        "        errors.append(epoch_error)\n",
        "        epochs += 1\n",
        "\n",
        "        if epoch_error <= convergenceErr or epochs >= maxEpoch:\n",
        "            break\n",
        "\n",
        "    return epochs, [w0, w1, w2], errors\n",
        "\n",
        "# Providing Initial weights\n",
        "InitialWeights = [10, 0.2, -0.75]\n",
        "\n",
        "# Train the perceptron\n",
        "num_epochs, final_weights, error_history = PerceptronForAndGate(InitialWeights)\n",
        "\n",
        "# Plotting epochs against error values\n",
        "plt.plot(range(num_epochs), error_history, color='orange')\n",
        "plt.xlabel('Epochs')\n",
        "plt.ylabel('Error')\n",
        "plt.title('Error vs. Epochs')\n",
        "plt.show()\n",
        "print(f\"Number of epochs needed for convergence: {num_epochs}\")\n",
        "print(f\"Final weights: w0 = {final_weights[0]}, w1 = {final_weights[1]}, w2 = {final_weights[2]}\")\n"
      ]
    },
    {
      "cell_type": "markdown",
      "metadata": {
        "id": "1FRHxBp7PYGj"
      },
      "source": [
        "A2. Repeat the above A1 experiment with following activation functions. Compare the iterations taken to converge against each of the activation functions. Keep the learning rate same as A1."
      ]
    },
    {
      "cell_type": "code",
      "execution_count": 4,
      "metadata": {
        "colab": {
          "base_uri": "https://localhost:8080/",
          "height": 781
        },
        "id": "B7gE1SddPYGj",
        "outputId": "75a42e70-13f1-4855-c40d-7abfd430d4f4"
      },
      "outputs": [
        {
          "output_type": "display_data",
          "data": {
            "text/plain": [
              "<Figure size 1000x600 with 1 Axes>"
            ],
            "image/png": "[encoded data removed]"
          },
          "metadata": {}
        },
        {
          "output_type": "stream",
          "name": "stdout",
          "text": [
            "Activation Function: Step\n",
            "Number of Epochs: 130\n",
            "Final Weights: w0 = -0.10000000000000765, w1 = 0.1000000000000001, w2 = 0.05000000000000032\n",
            "\n",
            "Activation Function: Sigmoid\n",
            "Number of Epochs: 1000\n",
            "Final Weights: w0 = -6.1353130787344305, w1 = 3.970833206406072, w2 = 3.963948347259991\n",
            "\n",
            "Activation Function: ReLU\n",
            "Number of Epochs: 390\n",
            "Final Weights: w0 = -0.9277447198109581, w1 = 0.9511600082912268, w2 = 0.9498108559260638\n",
            "\n"
          ]
        }
      ],
      "source": [
        "def step_activation(x):\n",
        "    return 1 if x >= 0 else 0\n",
        "\n",
        "def sigmoid_activation(x):\n",
        "    return 1 / (1 + np.exp(-x))\n",
        "\n",
        "def relu_activation(x):\n",
        "    return max(0, x)\n",
        "\n",
        "def train_perceptron(initialW, learningR=0.05, activation_func=step_activation, convergenceErr=0.002, max_epoch=1000):\n",
        "    w0, w1, w2 = initial_weights\n",
        "\n",
        "    def perceptron_output(x1, x2):\n",
        "        return w0 + w1 * x1 + w2 * x2\n",
        "\n",
        "    training_data = [\n",
        "        (0, 0, 0),\n",
        "        (0, 1, 0),\n",
        "        (1, 0, 0),\n",
        "        (1, 1, 1)\n",
        "    ]\n",
        "\n",
        "    epochs = 0\n",
        "    errors = []\n",
        "\n",
        "    while True:\n",
        "        epoch_error = 0\n",
        "        for x1, x2, target in training_data:\n",
        "            output = perceptron_output(x1, x2)\n",
        "            error = target - activation_func(output)\n",
        "            epoch_error = epoch_error + error ** 2\n",
        "            w0 = w0 + learningR * error\n",
        "            w1 = w1 + learningR * error * x1\n",
        "            w2 = w2 + learningR * error * x2\n",
        "        errors.append(epoch_error)\n",
        "        epochs += 1\n",
        "\n",
        "        if epoch_error <= convergenceErr or epochs >= max_epoch:\n",
        "            break\n",
        "\n",
        "    return epochs, [w0, w1, w2], errors\n",
        "\n",
        "# Initial weights\n",
        "initial_weights = [10, 0.2, -0.75]\n",
        "\n",
        "# Train the perceptron with different activation functions\n",
        "activation_functions = [step_activation, sigmoid_activation, relu_activation]\n",
        "activation_names = [\"Step\", \"Sigmoid\", \"ReLU\"]\n",
        "\n",
        "num_epochs_list = []\n",
        "final_weights_list = []\n",
        "for activation_func in activation_functions:\n",
        "    num_epochs, final_weights, _ = train_perceptron(initial_weights, activation_func=activation_func)\n",
        "    num_epochs_list.append(num_epochs)\n",
        "    final_weights_list.append(final_weights)\n",
        "\n",
        "# Plotting epochs vs. activation functions\n",
        "plt.figure(figsize=(10, 6))\n",
        "plt.bar(activation_names, num_epochs_list, color=['blue', 'pink', 'orange'])\n",
        "plt.xlabel('Activation Functions')\n",
        "plt.ylabel('Number of Epochs')\n",
        "plt.title('Comparison of Epoch for Different Activation Functions')\n",
        "plt.show()\n",
        "\n",
        "# Print the number of epochs and final weights for each activation function\n",
        "for i, activation_name in enumerate(activation_names):\n",
        "    print(f\"Activation Function: {activation_name}\")\n",
        "    print(f\"Number of Epochs: {num_epochs_list[i]}\")\n",
        "    print(f\"Final Weights: w0 = {final_weights_list[i][0]}, w1 = {final_weights_list[i][1]}, w2 = {final_weights_list[i][2]}\\n\")\n"
      ]
    },
    {
      "cell_type": "markdown",
      "metadata": {
        "id": "DiPjqXH7PYGk"
      },
      "source": [
        "A3. Repeat exercise A1 with varying the learning rate, keeping the initial weights same. Take learning rate = {0.1, 0.2, 0.3, 0.4, 0.5, 0.6, 0.7, 0.8, 0.9, 1}. Make a plot of the number of iterations taken for learning to converge against the learning rates."
      ]
    },
    {
      "cell_type": "code",
      "execution_count": null,
      "metadata": {
        "colab": {
          "base_uri": "https://localhost:8080/",
          "height": 472
        },
        "id": "1VI0HbKrPYGk",
        "outputId": "cfd8339a-5c64-4215-c734-30a69389fbdc"
      },
      "outputs": [
        {
          "data": {
            "image/png": "[encoded data removed]",
            "text/plain": [
              "<Figure size 640x480 with 1 Axes>"
            ]
          },
          "metadata": {},
          "output_type": "display_data"
        }
      ],
      "source": [
        "def step_activation(x):\n",
        "    return 1 if x >= 0 else 0\n",
        "\n",
        "def train_perceptron(initial_weights, learningRate=0.05, activation_func=step_activation, convergence_error=0.002, max_epochs=1000):\n",
        "    W0, W1, W2 = initial_weights\n",
        "\n",
        "    def perceptron_output(x1, x2):\n",
        "        return W0 + W1 * x1 + W2 * x2\n",
        "\n",
        "    #and gate logic\n",
        "    training_data = [\n",
        "        (0, 0, 0),\n",
        "        (0, 1, 0),\n",
        "        (1, 0, 0),\n",
        "        (1, 1, 1)\n",
        "    ]\n",
        "\n",
        "    epochs = 0\n",
        "    errors = []\n",
        "\n",
        "    while True:\n",
        "        epoch_error = 0\n",
        "        for x1, x2, target in training_data:\n",
        "            output = perceptron_output(x1, x2)\n",
        "            error = target - activation_func(output)\n",
        "            epoch_error = epoch_error + error ** 2\n",
        "            W0 = W0 + learningRate * error\n",
        "            W1 = W1 + learningRate * error * x1\n",
        "            W2 = W2 + learningRate * error * x2\n",
        "\n",
        "        errors.append(epoch_error)\n",
        "        epochs += 1\n",
        "\n",
        "        if epoch_error <= convergence_error or epochs >= max_epochs:\n",
        "            break\n",
        "\n",
        "    return epochs, [W0, W1, W2], errors\n",
        "\n",
        "# Initial weights\n",
        "initial_weights = [10, 0.2, -0.75]\n",
        "\n",
        "# List of learning rates to test\n",
        "learning_rates = [0.1, 0.2, 0.3, 0.4, 0.5, 0.6, 0.7, 0.8, 0.9, 1]\n",
        "\n",
        "# List to store the number of epochs for each learning rate\n",
        "num_epochs_list = []\n",
        "\n",
        "# Train the perceptron with varying learning rates\n",
        "for learning_rate in learning_rates:\n",
        "    num_epochs, final_weights, errors = train_perceptron(initial_weights, learningRate=learning_rate)\n",
        "    num_epochs_list.append(num_epochs)\n",
        "\n",
        "# Plotting learning rates vs. number of epochs\n",
        "plt.plot(learning_rates, num_epochs_list, marker='x', linestyle='-', color='brown')\n",
        "plt.xlabel('Learning Rate')\n",
        "plt.ylabel('Number of Epochs')\n",
        "plt.title('Number of Epochs vs. Learning Rate')\n",
        "plt.grid(True)\n",
        "plt.show()"
      ]
    },
    {
      "cell_type": "markdown",
      "metadata": {
        "id": "DAAtmXGoPYGl"
      },
      "source": [
        "A4. Repeat the above exercises, A1 to A3,for XOR gate logic"
      ]
    },
    {
      "cell_type": "markdown",
      "metadata": {
        "id": "hq_zJtJzPYGm"
      },
      "source": [
        "A1 using XOR gate logic"
      ]
    },
    {
      "cell_type": "code",
      "execution_count": null,
      "metadata": {
        "colab": {
          "base_uri": "https://localhost:8080/",
          "height": 508
        },
        "id": "GiojSHQpPYGm",
        "outputId": "5ef35024-f737-4f97-c485-ae9a4d7cb79f"
      },
      "outputs": [
        {
          "data": {
            "image/png": "[encoded data removed]",
            "text/plain": [
              "<Figure size 640x480 with 1 Axes>"
            ]
          },
          "metadata": {},
          "output_type": "display_data"
        },
        {
          "name": "stdout",
          "output_type": "stream",
          "text": [
            "Number of epochs needed for convergence: 1000\n",
            "Final weights: W0 = 0.09999999999999236, W1 = -0.09999999999999969, W2 = -0.09999999999999969\n"
          ]
        }
      ],
      "source": [
        "def train_perceptron_for_and_gate(initialWeights, learningRate=0.05, convergenceError=0.002, maxEpochs=1000):\n",
        "    # Initialize weights and bias\n",
        "    W0, W1, W2 = initialWeights\n",
        "\n",
        "    # Step activation function\n",
        "    def stepActivation(x):\n",
        "        return 1 if x >= 0 else 0\n",
        "\n",
        "    # Perceptron output calculation\n",
        "    def perceptronOutput(x1, x2):\n",
        "        return W0 + W1 * x1 + W2 * x2\n",
        "\n",
        "    # XOR gate training data\n",
        "    trainingData = [\n",
        "        (0, 0, 0),\n",
        "        (0, 1, 1),\n",
        "        (1, 0, 1),\n",
        "        (1, 1, 0)\n",
        "    ]\n",
        "\n",
        "    # Training loop\n",
        "    epochs = 0\n",
        "    errors = []\n",
        "\n",
        "    while True:\n",
        "        epoch_error = 0\n",
        "        for x1, x2, target in trainingData:\n",
        "            output = perceptronOutput(x1, x2)\n",
        "            error = target - stepActivation(output)\n",
        "            epoch_error = epoch_error + error ** 2\n",
        "            W0 = W0 + learningRate * error\n",
        "            W1 = W1 + learningRate * error * x1\n",
        "            W2 = W2 + learningRate * error * x2\n",
        "\n",
        "        errors.append(epoch_error)\n",
        "        epochs += 1\n",
        "\n",
        "        if epoch_error <= convergenceError or epochs >= maxEpochs:\n",
        "            break\n",
        "\n",
        "    return epochs, [W0, W1, W2], errors\n",
        "\n",
        "# Initial weights\n",
        "initial_weights = [10, 0.2, -0.75]\n",
        "\n",
        "# Train the perceptron for the AND gate\n",
        "num_epochs, final_weights, error_history = train_perceptron_for_and_gate(initial_weights)\n",
        "\n",
        "# Plotting epochs against error values\n",
        "plt.plot(range(num_epochs), error_history, color='green')\n",
        "plt.xlabel('Epochs')\n",
        "plt.ylabel('Error')\n",
        "plt.title('Error vs. Epochs')\n",
        "plt.show()\n",
        "\n",
        "print(f\"Number of epochs needed for convergence: {num_epochs}\")\n",
        "print(f\"Final weights: W0 = {final_weights[0]}, W1 = {final_weights[1]}, W2 = {final_weights[2]}\")\n"
      ]
    },
    {
      "cell_type": "markdown",
      "metadata": {
        "id": "vgRXvtVpPYGn"
      },
      "source": [
        "A2 using XOR gate logic"
      ]
    },
    {
      "cell_type": "code",
      "execution_count": null,
      "metadata": {
        "colab": {
          "base_uri": "https://localhost:8080/",
          "height": 527
        },
        "id": "PQe41V23PYGn",
        "outputId": "8027c3e8-a530-4213-f76b-a89592f6fa62"
      },
      "outputs": [
        {
          "data": {
            "image/png": "[encoded data removed]",
            "text/plain": [
              "<Figure size 640x480 with 1 Axes>"
            ]
          },
          "metadata": {},
          "output_type": "display_data"
        },
        {
          "name": "stdout",
          "output_type": "stream",
          "text": [
            "Iterations for Step: 1000\n",
            "Iterations for Sigmoid: 1000\n",
            "Iterations for ReLU: 1000\n"
          ]
        }
      ],
      "source": [
        "# Activation functions\n",
        "def step_activation(x):\n",
        "    return 1 if x >= 0 else 0\n",
        "\n",
        "def sigmoid_activation(x):\n",
        "    return 1 / (1 + np.exp(-x))\n",
        "\n",
        "def relu_activation(x):\n",
        "    return max(0, x)\n",
        "\n",
        "# Perceptron output calculation\n",
        "def perceptron_output(weights, inputs, activation_fn):\n",
        "    output = sum(w * x for w, x in zip(weights, inputs))\n",
        "    return activation_fn(output)\n",
        "\n",
        "# XOR gate training data\n",
        "training_data = [\n",
        "    (0, 0, 0),\n",
        "    (0, 1, 1),\n",
        "    (1, 0, 1),\n",
        "    (1, 1, 0)\n",
        "]\n",
        "\n",
        "def train_perceptron(initial_weights, learning_rate=0.05, convergence_error=0.002, max_epochs=1000, activation_fn=step_activation):\n",
        "    # Initialize weights\n",
        "    weights = initial_weights\n",
        "\n",
        "    # Training loop\n",
        "    epochs = 0\n",
        "    errors = []\n",
        "\n",
        "    while True:\n",
        "        epoch_error = 0\n",
        "        for x1, x2, target in training_data:\n",
        "            inputs = [1, x1, x2]  # Add bias term\n",
        "            output = perceptron_output(weights, inputs, activation_fn)\n",
        "            error = target - output\n",
        "            epoch_error += error ** 2\n",
        "\n",
        "            # Weight updates\n",
        "            for i in range(len(weights)):\n",
        "                weights[i] += learning_rate * error * inputs[i]\n",
        "\n",
        "        errors.append(epoch_error)\n",
        "        epochs += 1\n",
        "\n",
        "        if epoch_error <= convergence_error or epochs >= max_epochs:\n",
        "            break\n",
        "\n",
        "    return epochs, weights, errors\n",
        "\n",
        "# Initial weights\n",
        "initial_weights = [10, 0.2, -0.75]\n",
        "\n",
        "# Train the perceptron for XOR gate with different activation functions\n",
        "activation_functions = [step_activation, sigmoid_activation, relu_activation]\n",
        "activation_names = ['Step', 'Sigmoid', 'ReLU']\n",
        "iterations = []\n",
        "\n",
        "for activation_fn, activation_name in zip(activation_functions, activation_names):\n",
        "    num_epochs, final_weights, error_history = train_perceptron(initial_weights, activation_fn=activation_fn)\n",
        "    iterations.append(num_epochs)\n",
        "\n",
        "    # Plotting epochs against error values\n",
        "    plt.plot(range(num_epochs), error_history, label=activation_name)\n",
        "\n",
        "plt.xlabel('Epochs')\n",
        "plt.ylabel('Error')\n",
        "plt.title('Error vs. Epochs for XOR Gate')\n",
        "plt.legend(activation_names)\n",
        "plt.show()\n",
        "\n",
        "# Compare the number of iterations taken to converge\n",
        "for i, activation_name in enumerate(activation_names):\n",
        "    print(f\"Iterations for {activation_name}: {iterations[i]}\")\n"
      ]
    },
    {
      "cell_type": "markdown",
      "metadata": {
        "id": "EGsZauT0PYGo"
      },
      "source": [
        "A3 using XOR gate logic"
      ]
    },
    {
      "cell_type": "code",
      "execution_count": null,
      "metadata": {
        "colab": {
          "base_uri": "https://localhost:8080/",
          "height": 472
        },
        "id": "YTliVUshPYGo",
        "outputId": "e681d367-2585-41c3-eb91-ac39018a8a64"
      },
      "outputs": [
        {
          "data": {
            "image/png": "[encoded data removed]",
            "text/plain": [
              "<Figure size 640x480 with 1 Axes>"
            ]
          },
          "metadata": {},
          "output_type": "display_data"
        }
      ],
      "source": [
        "def step_activation(x):\n",
        "    return 1 if x >= 0 else 0\n",
        "\n",
        "def train_perceptron(initial_weights, learningRate=0.05, activation_func=step_activation, convergence_error=0.002, max_epochs=1000):\n",
        "    W0, W1, W2 = initial_weights\n",
        "\n",
        "    def perceptron_output(x1, x2):\n",
        "        return W0 + W1 * x1 + W2 * x2\n",
        "\n",
        "    #and gate logic\n",
        "    training_data = [\n",
        "        (0, 0, 0),\n",
        "        (0, 1, 1),\n",
        "        (1, 0, 1),\n",
        "        (1, 1, 0)\n",
        "    ]\n",
        "\n",
        "    epochs = 0\n",
        "    errors = []\n",
        "\n",
        "    while True:\n",
        "        epoch_error = 0\n",
        "        for x1, x2, target in training_data:\n",
        "            output = perceptron_output(x1, x2)\n",
        "            error = target - activation_func(output)\n",
        "            epoch_error = epoch_error + error ** 2\n",
        "            W0 = W0 + learningRate * error\n",
        "            W1 = W1 + learningRate * error * x1\n",
        "            W2 = W2 + learningRate * error * x2\n",
        "\n",
        "        errors.append(epoch_error)\n",
        "        epochs += 1\n",
        "\n",
        "        if epoch_error <= convergence_error or epochs >= max_epochs:\n",
        "            break\n",
        "\n",
        "    return epochs, [W0, W1, W2], errors\n",
        "\n",
        "# Initial weights\n",
        "initial_weights = [10, 0.2, -0.75]\n",
        "\n",
        "# List of learning rates to test\n",
        "learning_rates = [0.1, 0.2, 0.3, 0.4, 0.5, 0.6, 0.7, 0.8, 0.9, 1]\n",
        "\n",
        "# List to store the number of epochs for each learning rate\n",
        "num_epochs_list = []\n",
        "\n",
        "# Train the perceptron with varying learning rates\n",
        "for learning_rate in learning_rates:\n",
        "    num_epochs, final_weights, errors = train_perceptron(initial_weights, learningRate=learning_rate)\n",
        "    num_epochs_list.append(num_epochs)\n",
        "\n",
        "# Plotting learning rates vs. number of epochs\n",
        "plt.plot(learning_rates, num_epochs_list, marker='x', linestyle='--', color='orange')\n",
        "plt.xlabel('Learning Rate')\n",
        "plt.ylabel('Number of Epochs')\n",
        "plt.title('Number of Epochs vs. Learning Rate')\n",
        "plt.grid(True)\n",
        "plt.show()"
      ]
    },
    {
      "cell_type": "markdown",
      "metadata": {
        "id": "IbruCdQtPYGp"
      },
      "source": [
        "A5."
      ]
    },
    {
      "cell_type": "code",
      "execution_count": null,
      "metadata": {
        "colab": {
          "base_uri": "https://localhost:8080/"
        },
        "id": "CJk9IMMPPYGp",
        "outputId": "32736e9a-8d3a-4da5-a65e-64c454976736"
      },
      "outputs": [
        {
          "name": "stdout",
          "output_type": "stream",
          "text": [
            "  Customer  Payment  Label  Predicted Label\n",
            "0      C_1      386      1                1\n",
            "1      C_2      289      1                1\n",
            "2      C_3      393      1                1\n",
            "3      C_4      110      0                0\n",
            "4      C_5      280      1                1\n",
            "5      C_6      167      0                0\n",
            "6      C_7      271      1                1\n",
            "7      C_8      274      1                1\n",
            "8      C_9      148      0                0\n",
            "9     C_10      198      0                0\n"
          ]
        }
      ],
      "source": [
        "# Sigmoid activation function\n",
        "def sigmoid(x):\n",
        "    return 1 / (1 + np.exp(-x))\n",
        "\n",
        "# Perceptron output calculation\n",
        "def perceptron_output(weights, inputs, bias):\n",
        "    weighted_sum = np.dot(weights, inputs) + bias\n",
        "    return sigmoid(weighted_sum)\n",
        "\n",
        "# Given customer data\n",
        "data = {\n",
        "    'Customer': ['C_1', 'C_2', 'C_3', 'C_4', 'C_5', 'C_6', 'C_7', 'C_8', 'C_9', 'C_10'],\n",
        "    'Candies': [20, 16, 27, 19, 24, 22, 15, 18, 21, 16],\n",
        "    'Mangoes': [6, 3, 6, 1, 4, 1, 4, 4, 1, 2],\n",
        "    'Milk Packets': [2, 6, 2, 2, 2, 5, 2, 2, 4, 4],\n",
        "    'Payment': [386, 289, 393, 110, 280, 167, 271, 274, 148, 198]\n",
        "}\n",
        "\n",
        "# Convert data to a DataFrame\n",
        "data = pd.DataFrame(data)\n",
        "\n",
        "# Labels: High (1) or Low (0) value based on Payment\n",
        "data['Label'] = [1 if payment >= 250 else 0 for payment in data['Payment']]\n",
        "\n",
        "# Features and labels as NumPy arrays\n",
        "features = data[['Candies', 'Mangoes', 'Milk Packets']].values.T  # Transpose the matrix\n",
        "labels = data['Label'].values\n",
        "\n",
        "# Initialize weights and bias with random values\n",
        "np.random.seed(0)  # For reproducibility\n",
        "num_features = features.shape[0]\n",
        "weights = np.random.rand(num_features)\n",
        "bias = np.random.rand()\n",
        "\n",
        "# Learning rate\n",
        "learning_rate = 0.01\n",
        "\n",
        "# Training loop\n",
        "num_epochs = 1000  # You can adjust this as needed\n",
        "for epoch in range(num_epochs):\n",
        "    total_error = 0\n",
        "    for i in range(len(features.T)):\n",
        "        # Forward pass\n",
        "        input_data = features[:, i]\n",
        "        predicted = perceptron_output(weights, input_data, bias)\n",
        "\n",
        "        # Calculate error\n",
        "        error = labels[i] - predicted\n",
        "        total_error += abs(error)\n",
        "\n",
        "        # Update weights and bias\n",
        "        weights += learning_rate * error * input_data\n",
        "        bias += learning_rate * error\n",
        "\n",
        "    # Check for convergence\n",
        "    if total_error == 0:\n",
        "        break\n",
        "\n",
        "# Evaluation\n",
        "predictions = [perceptron_output(weights, input_data, bias) for input_data in features.T]\n",
        "predicted_labels = [1 if prediction >= 0.5 else 0 for prediction in predictions]\n",
        "\n",
        "# Add predicted labels to the DataFrame\n",
        "data['Predicted Label'] = predicted_labels\n",
        "\n",
        "# Display the data with predicted labels\n",
        "print(data[['Customer', 'Payment', 'Label', 'Predicted Label']])\n"
      ]
    },
    {
      "cell_type": "markdown",
      "metadata": {
        "id": "coLLVKFQxcf8"
      },
      "source": [
        "A6. Compare the results obtained from above perceptron learning to the ones obtained with matrix pseudo-inverse"
      ]
    },
    {
      "cell_type": "code",
      "execution_count": null,
      "metadata": {
        "colab": {
          "base_uri": "https://localhost:8080/"
        },
        "id": "eXnAUqUgPYGq",
        "outputId": "3a4f5892-2614-4ea8-9583-3a3d122b3654"
      },
      "outputs": [
        {
          "name": "stdout",
          "output_type": "stream",
          "text": [
            "Perceptron Accuracy (Train): 1.0\n",
            "Perceptron Accuracy (Test): 0.5\n",
            "Matrix Pseudo-Inverse Accuracy (Train): 1.0\n",
            "Matrix Pseudo-Inverse Accuracy (Test): 0.5\n"
          ]
        }
      ],
      "source": [
        "# Define the dataset\n",
        "data = {\n",
        "    'Customer': ['C_1', 'C_2', 'C_3', 'C_4', 'C_5', 'C_6', 'C_7', 'C_8', 'C_9', 'C_10'],\n",
        "    'Candies': [20, 16, 27, 19, 24, 22, 15, 18, 21, 16],\n",
        "    'Mangoes': [6, 3, 6, 1, 4, 1, 4, 4, 1, 2],\n",
        "    'Milk Packets': [2, 6, 2, 2, 2, 5, 2, 2, 4, 4],\n",
        "    'Payment': [386, 289, 393, 110, 280, 167, 271, 274, 148, 198]\n",
        "}\n",
        "\n",
        "# Convert data to a pandas DataFrame\n",
        "df = pd.DataFrame(data)\n",
        "\n",
        "# Convert data to a NumPy array\n",
        "X = df[['Candies', 'Mangoes', 'Milk Packets']].values\n",
        "y = np.array([1 if payment >= 250 else 0 for payment in df['Payment']])\n",
        "\n",
        "# Split the data into training and testing sets\n",
        "X_train, X_test, y_train, y_test = train_test_split(X, y, test_size=0.2, random_state=42)\n",
        "\n",
        "# Train a perceptron model\n",
        "perceptron = Perceptron()\n",
        "perceptron.fit(X_train, y_train)\n",
        "\n",
        "# Predictions using perceptron\n",
        "y_train_pred_perceptron = perceptron.predict(X_train)\n",
        "y_test_pred_perceptron = perceptron.predict(X_test)\n",
        "\n",
        "# Train a model using matrix pseudo-inverse\n",
        "# Calculate weights using the pseudo-inverse\n",
        "weights_pseudo_inverse = np.linalg.pinv(X_train).dot(y_train)\n",
        "\n",
        "# Predictions using pseudo-inverse\n",
        "y_train_pred_pseudo_inverse = (X_train.dot(weights_pseudo_inverse) >= 0.5).astype(int)\n",
        "y_test_pred_pseudo_inverse = (X_test.dot(weights_pseudo_inverse) >= 0.5).astype(int)\n",
        "\n",
        "# Evaluate both models\n",
        "accuracy_perceptron_train = accuracy_score(y_train, y_train_pred_perceptron)\n",
        "accuracy_perceptron_test = accuracy_score(y_test, y_test_pred_perceptron)\n",
        "\n",
        "accuracy_pseudo_inverse_train = accuracy_score(y_train, y_train_pred_pseudo_inverse)\n",
        "accuracy_pseudo_inverse_test = accuracy_score(y_test, y_test_pred_pseudo_inverse)\n",
        "\n",
        "print(\"Perceptron Accuracy (Train):\", accuracy_perceptron_train)\n",
        "print(\"Perceptron Accuracy (Test):\", accuracy_perceptron_test)\n",
        "print(\"Matrix Pseudo-Inverse Accuracy (Train):\", accuracy_pseudo_inverse_train)\n",
        "print(\"Matrix Pseudo-Inverse Accuracy (Test):\", accuracy_pseudo_inverse_test)\n"
      ]
    },
    {
      "cell_type": "markdown",
      "metadata": {
        "id": "Tj8kdtXCWl0A"
      },
      "source": [
        "A7. Develop the belowNeural Network. Use learning rate (α) = 0.05 with a Sigmoid activation function. Learn the weights of the network using back-propagation algorithm to implement above provided AND gate logic"
      ]
    },
    {
      "cell_type": "code",
      "execution_count": null,
      "metadata": {
        "colab": {
          "base_uri": "https://localhost:8080/"
        },
        "id": "wZRiBLa-x9yp",
        "outputId": "d01bb313-fc0b-471e-aadd-fec569960475"
      },
      "outputs": [
        {
          "name": "stdout",
          "output_type": "stream",
          "text": [
            "Predictions:\n",
            "[[0.23327416]\n",
            " [0.29609331]\n",
            " [0.30368578]\n",
            " [0.36311458]]\n"
          ]
        }
      ],
      "source": [
        "# Sigmoid activation function\n",
        "def sigmoid(x):\n",
        "    return 1 / (1 + np.exp(-x))\n",
        "\n",
        "# Derivative of the sigmoid function\n",
        "def sigmoid_derivative(x):\n",
        "    return x * (1 - x)\n",
        "\n",
        "# AND gate training data\n",
        "X = np.array([[0, 0], [0, 1], [1, 0], [1, 1]])  #inputs of an AND gate\n",
        "y = np.array([[0], [0], [0], [1]])  #outputs of an AND gate\n",
        "\n",
        "# Neural network architecture [Given in the problem]\n",
        "input_nodes = 2\n",
        "hidden_nodes = 2\n",
        "output_nodes = 1\n",
        "\n",
        "# Initialize weights and biases with random values\n",
        "np.random.seed(0)   #random number generator in python\n",
        "weights_input_hidden = np.random.uniform(size=(input_nodes, hidden_nodes))\n",
        "biases_hidden = np.zeros((1, hidden_nodes))\n",
        "\n",
        "weights_hidden_output = np.random.uniform(size=(hidden_nodes, output_nodes))\n",
        "biases_output = np.zeros((1, output_nodes))\n",
        "\n",
        "# Learning rate\n",
        "learning_rate = 0.05\n",
        "\n",
        "# Maximum number of iterations\n",
        "max_iterations = 1000\n",
        "\n",
        "# Convergence error threshold\n",
        "convergence_error_threshold = 0.002\n",
        "\n",
        "# Training loop\n",
        "for iteration in range(max_iterations):\n",
        "    # Forward pass\n",
        "    hidden_layer_input = np.dot(X, weights_input_hidden) + biases_hidden\n",
        "    hidden_layer_output = sigmoid(hidden_layer_input)\n",
        "\n",
        "    output_layer_input = np.dot(hidden_layer_output, weights_hidden_output) + biases_output\n",
        "    output_layer_output = sigmoid(output_layer_input)\n",
        "\n",
        "    # Calculate error\n",
        "    error = y - output_layer_output\n",
        "\n",
        "    # Check for convergence\n",
        "    if np.mean(np.abs(error)) <= convergence_error_threshold:\n",
        "        print(f\"Converged after {iteration} iterations\")\n",
        "        break\n",
        "\n",
        "    # Backward pass\n",
        "    d_output = error * sigmoid_derivative(output_layer_output)\n",
        "    d_hidden = d_output.dot(weights_hidden_output.T) * sigmoid_derivative(hidden_layer_output)\n",
        "\n",
        "    # Update weights and biases\n",
        "    weights_hidden_output = weights_hidden_output + hidden_layer_output.T.dot(d_output) * learning_rate\n",
        "    weights_input_hidden = weights_input_hidden + X.T.dot(d_hidden) * learning_rate\n",
        "\n",
        "    biases_output = biases_output + np.sum(d_output, axis=0, keepdims=True) * learning_rate\n",
        "    biases_hidden = biases_hidden + np.sum(d_hidden, axis=0, keepdims=True) * learning_rate\n",
        "\n",
        "# Evaluate the trained network\n",
        "predictions = sigmoid(np.dot(sigmoid(np.dot(X, weights_input_hidden) + biases_hidden), weights_hidden_output) + biases_output)\n",
        "print(\"Predictions:\")\n",
        "print(predictions)\n"
      ]
    },
    {
      "cell_type": "markdown",
      "metadata": {
        "id": "_kZayC7OyQ4_"
      },
      "source": [
        "A8. Repeat the above A1 experiment for XOR Gate logic. Keep the learning rate & activation function same as A1."
      ]
    },
    {
      "cell_type": "code",
      "execution_count": null,
      "metadata": {
        "colab": {
          "base_uri": "https://localhost:8080/"
        },
        "id": "bjRup45TyHgi",
        "outputId": "28055c2f-e744-4cef-8d9b-eca08a7d805f"
      },
      "outputs": [
        {
          "name": "stdout",
          "output_type": "stream",
          "text": [
            "Predictions:\n",
            "[[0.47544663]\n",
            " [0.50272827]\n",
            " [0.50556324]\n",
            " [0.52649632]]\n"
          ]
        }
      ],
      "source": [
        "# Sigmoid activation function\n",
        "def sigmoid(x):\n",
        "    return 1 / (1 + np.exp(-x))\n",
        "\n",
        "# Derivative of the sigmoid function\n",
        "def sigmoid_derivative(x):\n",
        "    return x * (1 - x)\n",
        "\n",
        "# XOR gate training data\n",
        "X = np.array([[0, 0], [0, 1], [1, 0], [1, 1]])  #inputs of XOR gate\n",
        "y = np.array([[0], [1], [1], [0]])  #outputs of XOR gate\n",
        "\n",
        "# Neural network architecture [Given in the problem]\n",
        "input_nodes = 2\n",
        "hidden_nodes = 2\n",
        "output_nodes = 1\n",
        "\n",
        "# Initialize weights and biases with random values\n",
        "np.random.seed(0)   #random number generator in python\n",
        "weights_input_hidden = np.random.uniform(size=(input_nodes, hidden_nodes))\n",
        "biases_hidden = np.zeros((1, hidden_nodes))\n",
        "\n",
        "weights_hidden_output = np.random.uniform(size=(hidden_nodes, output_nodes))\n",
        "biases_output = np.zeros((1, output_nodes))\n",
        "\n",
        "# Learning rate\n",
        "learning_rate = 0.05\n",
        "\n",
        "# Maximum number of iterations\n",
        "max_iterations = 1000\n",
        "\n",
        "# Convergence error threshold\n",
        "convergence_error_threshold = 0.002\n",
        "\n",
        "# Training loop\n",
        "for iteration in range(max_iterations):\n",
        "    # Forward pass\n",
        "    hidden_layer_input = np.dot(X, weights_input_hidden) + biases_hidden\n",
        "    hidden_layer_output = sigmoid(hidden_layer_input)\n",
        "\n",
        "    output_layer_input = np.dot(hidden_layer_output, weights_hidden_output) + biases_output\n",
        "    output_layer_output = sigmoid(output_layer_input)\n",
        "\n",
        "    # Calculate error\n",
        "    error = y - output_layer_output\n",
        "\n",
        "    # Check for convergence\n",
        "    if np.mean(np.abs(error)) <= convergence_error_threshold:\n",
        "        print(f\"Converged after {iteration} iterations\")\n",
        "        break\n",
        "\n",
        "    # Backward pass\n",
        "    d_output = error * sigmoid_derivative(output_layer_output)\n",
        "    d_hidden = d_output.dot(weights_hidden_output.T) * sigmoid_derivative(hidden_layer_output)\n",
        "\n",
        "    # Update weights and biases\n",
        "    weights_hidden_output = weights_hidden_output + hidden_layer_output.T.dot(d_output) * learning_rate\n",
        "    weights_input_hidden = weights_input_hidden + X.T.dot(d_hidden) * learning_rate\n",
        "\n",
        "    biases_output = biases_output + np.sum(d_output, axis=0, keepdims=True) * learning_rate\n",
        "    #keepdims: a parameter that you can pass to various functions to control whether the dimensions of the result should be kept or reduced.\n",
        "    biases_hidden = biases_hidden + np.sum(d_hidden, axis=0, keepdims=True) * learning_rate\n",
        "\n",
        "# Evaluate the trained network\n",
        "predictions = sigmoid(np.dot(sigmoid(np.dot(X, weights_input_hidden) + biases_hidden), weights_hidden_output) + biases_output)\n",
        "print(\"Predictions:\")\n",
        "print(predictions)\n"
      ]
    },
    {
      "cell_type": "markdown",
      "metadata": {
        "id": "T_O_c1_gysGX"
      },
      "source": [
        "A9. Repeat exercise A1 & A2 with 2 output nodes (as shown below). A zero output of logic gate maps to [O1O2] = [1 0] from output layer while a one output from logic gate maps to [0 1]. AND Gate"
      ]
    },
    {
      "cell_type": "code",
      "execution_count": null,
      "metadata": {
        "colab": {
          "base_uri": "https://localhost:8080/"
        },
        "id": "h9BdgbhWyjRf",
        "outputId": "14b2f72c-a241-45bf-9b18-ac5745178618"
      },
      "outputs": [
        {
          "name": "stdout",
          "output_type": "stream",
          "text": [
            "Predictions:\n",
            "[[0.73341184 0.23289031]\n",
            " [0.72086012 0.2929836 ]\n",
            " [0.71829714 0.30085794]\n",
            " [0.70764963 0.35833452]]\n"
          ]
        }
      ],
      "source": [
        "# Sigmoid activation function\n",
        "def sigmoid(x):\n",
        "    return 1 / (1 + np.exp(-x))\n",
        "\n",
        "# Derivative of the sigmoid function\n",
        "def sigmoid_derivative(x):\n",
        "    return x * (1 - x)\n",
        "\n",
        "# AND gate training data\n",
        "X = np.array([[0, 0], [0, 1], [1, 0], [1, 1]])  #inputs of AND gate\n",
        "y = np.array([[1, 0], [1, 0], [1, 0], [0, 1]])   #outputs of AND gate\n",
        "\n",
        "# Neural network architecture [Given in the problem]\n",
        "input_nodes = 2\n",
        "hidden_nodes = 2\n",
        "output_nodes = 2\n",
        "\n",
        "# Initialize weights and biases with random values\n",
        "np.random.seed(0)   #random number generator in python\n",
        "weights_input_hidden = np.random.uniform(size=(input_nodes, hidden_nodes))\n",
        "biases_hidden = np.zeros((1, hidden_nodes))\n",
        "\n",
        "weights_hidden_output = np.random.uniform(size=(hidden_nodes, output_nodes))\n",
        "biases_output = np.zeros((1, output_nodes))\n",
        "\n",
        "# Learning rate\n",
        "learning_rate = 0.05\n",
        "\n",
        "# Maximum number of iterations\n",
        "max_iterations = 1000\n",
        "\n",
        "# Convergence error threshold\n",
        "convergence_error_threshold = 0.002\n",
        "\n",
        "# Training loop\n",
        "for iteration in range(max_iterations):\n",
        "    # Forward pass\n",
        "    hidden_layer_input = np.dot(X, weights_input_hidden) + biases_hidden\n",
        "    hidden_layer_output = sigmoid(hidden_layer_input)\n",
        "\n",
        "    output_layer_input = np.dot(hidden_layer_output, weights_hidden_output) + biases_output\n",
        "    output_layer_output = sigmoid(output_layer_input)\n",
        "\n",
        "    # Calculate error\n",
        "    error = y - output_layer_output\n",
        "\n",
        "    # Check for convergence\n",
        "    if np.mean(np.abs(error)) <= convergence_error_threshold:\n",
        "        print(f\"Converged after {iteration} iterations\")\n",
        "        break\n",
        "\n",
        "    # Backward pass\n",
        "    d_output = error * sigmoid_derivative(output_layer_output)\n",
        "    d_hidden = d_output.dot(weights_hidden_output.T) * sigmoid_derivative(hidden_layer_output)\n",
        "\n",
        "    # Update weights and biases\n",
        "    weights_hidden_output = weights_hidden_output + hidden_layer_output.T.dot(d_output) * learning_rate\n",
        "    weights_input_hidden = weights_input_hidden + X.T.dot(d_hidden) * learning_rate\n",
        "\n",
        "    biases_output = biases_output + np.sum(d_output, axis=0, keepdims=True) * learning_rate\n",
        "    #keepdims: a parameter that you can pass to various functions to control whether the dimensions of the result should be kept or reduced.\n",
        "    biases_hidden = biases_hidden + np.sum(d_hidden, axis=0, keepdims=True) * learning_rate\n",
        "\n",
        "# Evaluate the trained network\n",
        "predictions = sigmoid(np.dot(sigmoid(np.dot(X, weights_input_hidden) + biases_hidden), weights_hidden_output) + biases_output)\n",
        "print(\"Predictions:\")\n",
        "print(predictions)\n"
      ]
    },
    {
      "cell_type": "markdown",
      "metadata": {
        "id": "XJWDK-dXzJor"
      },
      "source": [
        "XOR Gate"
      ]
    },
    {
      "cell_type": "code",
      "execution_count": null,
      "metadata": {
        "colab": {
          "base_uri": "https://localhost:8080/"
        },
        "id": "vpbC1mA_y4Fr",
        "outputId": "b4356201-c66c-4e96-efc1-f71fd5e2137f"
      },
      "outputs": [
        {
          "name": "stdout",
          "output_type": "stream",
          "text": [
            "Predictions:\n",
            "[[0.48741224 0.46977702]\n",
            " [0.49773916 0.50128228]\n",
            " [0.49821744 0.50484499]\n",
            " [0.50697855 0.5310057 ]]\n"
          ]
        }
      ],
      "source": [
        "# Sigmoid activation function\n",
        "def sigmoid(x):\n",
        "    return 1 / (1 + np.exp(-x))\n",
        "\n",
        "# Derivative of the sigmoid function\n",
        "def sigmoid_derivative(x):\n",
        "    return x * (1 - x)\n",
        "\n",
        "# XOR gate training data\n",
        "X = np.array([[0, 0], [0, 1], [1, 0], [1, 1]])  #inputs of XOR gate\n",
        "y = np.array([[1, 0], [0, 1], [0, 1], [1, 0]])   #outputs of XOR gate\n",
        "\n",
        "# Neural network architecture [Given in the problem]\n",
        "input_nodes = 2\n",
        "hidden_nodes = 2\n",
        "output_nodes = 2\n",
        "\n",
        "# Initialize weights and biases with random values\n",
        "np.random.seed(0)   #random number generator in python\n",
        "weights_input_hidden = np.random.uniform(size=(input_nodes, hidden_nodes))\n",
        "biases_hidden = np.zeros((1, hidden_nodes))\n",
        "\n",
        "weights_hidden_output = np.random.uniform(size=(hidden_nodes, output_nodes))\n",
        "biases_output = np.zeros((1, output_nodes))\n",
        "\n",
        "# Learning rate\n",
        "learning_rate = 0.05\n",
        "\n",
        "# Maximum number of iterations\n",
        "max_iterations = 1000\n",
        "\n",
        "# Convergence error threshold\n",
        "convergence_error_threshold = 0.002\n",
        "\n",
        "# Training loop\n",
        "for iteration in range(max_iterations):\n",
        "    # Forward pass\n",
        "    hidden_layer_input = np.dot(X, weights_input_hidden) + biases_hidden\n",
        "    hidden_layer_output = sigmoid(hidden_layer_input)\n",
        "\n",
        "    output_layer_input = np.dot(hidden_layer_output, weights_hidden_output) + biases_output\n",
        "    output_layer_output = sigmoid(output_layer_input)\n",
        "\n",
        "    # Calculate error\n",
        "    error = y - output_layer_output\n",
        "\n",
        "    # Check for convergence\n",
        "    if np.mean(np.abs(error)) <= convergence_error_threshold:\n",
        "        print(f\"Converged after {iteration} iterations\")\n",
        "        break\n",
        "\n",
        "    # Backward pass\n",
        "    d_output = error * sigmoid_derivative(output_layer_output)\n",
        "    d_hidden = d_output.dot(weights_hidden_output.T) * sigmoid_derivative(hidden_layer_output)\n",
        "\n",
        "    # Update weights and biases\n",
        "    weights_hidden_output = weights_hidden_output + hidden_layer_output.T.dot(d_output) * learning_rate\n",
        "    weights_input_hidden = weights_input_hidden + X.T.dot(d_hidden) * learning_rate\n",
        "\n",
        "    biases_output = biases_output + np.sum(d_output, axis=0, keepdims=True) * learning_rate #keepdims: a parameter that you can pass to various functions to control whether the dimensions of the result should be kept or reduced.\n",
        "    biases_hidden = biases_hidden + np.sum(d_hidden, axis=0, keepdims=True) * learning_rate\n",
        "\n",
        "# Evaluate the trained network\n",
        "predictions = sigmoid(np.dot(sigmoid(np.dot(X, weights_input_hidden) + biases_hidden), weights_hidden_output) + biases_output)\n",
        "print(\"Predictions:\")\n",
        "print(predictions)\n"
      ]
    },
    {
      "cell_type": "markdown",
      "metadata": {
        "id": "mEviMBbfzac9"
      },
      "source": [
        "A10. Learn using a MLP network from Sci-Kit manual available at https://scikit-learn.org/stable/modules/neural_networks_supervised.html. Repeat the AND Gate and XOR Gate exercises using MLPClassifier() function."
      ]
    },
    {
      "cell_type": "code",
      "execution_count": null,
      "metadata": {
        "colab": {
          "base_uri": "https://localhost:8080/"
        },
        "id": "GOp8ZiGSzQzj",
        "outputId": "75b8589f-3112-4544-8341-547fb83a009f"
      },
      "outputs": [
        {
          "name": "stdout",
          "output_type": "stream",
          "text": [
            "AND gate Predictions: \n",
            "[0 0 0 1]\n"
          ]
        }
      ],
      "source": [
        "#defining AND gate training data\n",
        "X = np.array([[0,0],[0,1],[1,0],[1,1]])\n",
        "y = np.array([0,0,0,1])\n",
        "\n",
        "#creating MLPClassifier\n",
        "classiAND = MLPClassifier(hidden_layer_sizes=(2,), activation='logistic', solver='lbfgs',max_iter=1000)\n",
        "\n",
        "#training the classifier\n",
        "classiAND.fit(X,y)\n",
        "\n",
        "#test the classifier\n",
        "testData = np.array([[0,0],[0,1],[1,0],[1,1]])\n",
        "predictions = classiAND.predict(testData)\n",
        "\n",
        "#printing the result\n",
        "print(\"AND gate Predictions: \")\n",
        "print(predictions)"
      ]
    },
    {
      "cell_type": "markdown",
      "metadata": {
        "id": "9Z_TXxGBz6kt"
      },
      "source": [
        "A11.  Use the MLPClassifier() function on your project dataset."
      ]
    },
    {
      "cell_type": "code",
      "execution_count": null,
      "metadata": {
        "colab": {
          "base_uri": "https://localhost:8080/"
        },
        "id": "NoAvmqw2zfS4",
        "outputId": "4c2fd3fc-b295-4f74-95ec-aa3c3f7b715d"
      },
      "outputs": [
        {
          "name": "stdout",
          "output_type": "stream",
          "text": [
            "Accuracy: 0.0\n"
          ]
        }
      ],
      "source": [
        "import pandas as pd\n",
        "data = pd.read_excel(r\"/content/embeddingsdata.xlsx\")\n",
        "df = pd.DataFrame(data)\n",
        "#df\n",
        "# Split the dataset into training and testing sets\n",
        "X_train, X_test, y_train, y_test = train_test_split(X, y, test_size=0.2, random_state=42)\n",
        "\n",
        "# Create an MLPClassifier\n",
        "clf = MLPClassifier(hidden_layer_sizes=(100, 50), activation='relu', solver='adam', max_iter=1000)\n",
        "\n",
        "# Train the classifier\n",
        "clf.fit(X_train, y_train)\n",
        "\n",
        "# Make predictions\n",
        "y_pred = clf.predict(X_test)\n",
        "\n",
        "# Evaluate the model\n",
        "accuracy = accuracy_score(y_test, y_pred)\n",
        "print(f\"Accuracy: {accuracy}\")"
      ]
    },
    {
      "cell_type": "code",
      "execution_count": null,
      "metadata": {
        "id": "MaAWnIDI1GAP"
      },
      "outputs": [],
      "source": []
    }
  ],
  "metadata": {
    "colab": {
      "provenance": []
    },
    "kernelspec": {
      "display_name": "Python 3",
      "language": "python",
      "name": "python3"
    },
    "language_info": {
      "codemirror_mode": {
        "name": "ipython",
        "version": 3
      },
      "file_extension": ".py",
      "mimetype": "text/x-python",
      "name": "python",
      "nbconvert_exporter": "python",
      "pygments_lexer": "ipython3",
      "version": "3.10.5"
    },
    "orig_nbformat": 4
  },
  "nbformat": 4,
  "nbformat_minor": 0
}