{
  "cells": [
    {
      "cell_type": "code",
      "execution_count": 1,
      "metadata": {
        "colab": {
          "base_uri": "https://localhost:8080/"
        },
        "id": "ph2BSQ_CcmZP",
        "outputId": "0adc474a-2242-49ac-9cb5-d68475ed3ecc"
      },
      "outputs": [
        {
          "output_type": "stream",
          "name": "stdout",
          "text": [
            "Inputs: [0, 0], Target: 0, Prediction: 1\n",
            "Inputs: [0, 1], Target: 0, Prediction: 1\n",
            "Inputs: [1, 0], Target: 0, Prediction: 1\n",
            "Inputs: [1, 1], Target: 1, Prediction: 1\n"
          ]
        }
      ],
      "source": [
        "class perceptronFunct:\n",
        "    def __init__(self, weights):\n",
        "        # Initialize weights with the provided values\n",
        "        self.weights = weights\n",
        "\n",
        "    def predict(self, inputs):\n",
        "        # Calculate the weighted sum of inputs\n",
        "        weightedSum = sum(w * x for w, x in zip(self.weights, inputs))\n",
        "\n",
        "        # Apply the activation function (Step function)\n",
        "        if weightedSum >= 0:\n",
        "            return 1\n",
        "        else:\n",
        "            return 0\n",
        "\n",
        "# Define the AND gate logic\n",
        "andGate = perceptronFunct(weights=[10, 0.2, -0.75])\n",
        "\n",
        "# Test the AND gate perceptron\n",
        "testData = [([0, 0], 0), ([0, 1], 0), ([1, 0], 0), ([1, 1], 1)]\n",
        "for inputs, target in testData:\n",
        "    prediction = andGate.predict([1] + inputs)  # Adding a bias input of 1\n",
        "    print(f\"Inputs: {inputs}, Target: {target}, Prediction: {prediction}\")\n"
      ]
    },
    {
      "cell_type": "code",
      "execution_count": null,
      "metadata": {
        "id": "cjCjBK9jcmZZ"
      },
      "outputs": [],
      "source": []
    }
  ],
  "metadata": {
    "kernelspec": {
      "display_name": "Python 3",
      "language": "python",
      "name": "python3"
    },
    "language_info": {
      "codemirror_mode": {
        "name": "ipython",
        "version": 3
      },
      "file_extension": ".py",
      "mimetype": "text/x-python",
      "name": "python",
      "nbconvert_exporter": "python",
      "pygments_lexer": "ipython3",
      "version": "3.10.5"
    },
    "orig_nbformat": 4,
    "colab": {
      "provenance": []
    }
  },
  "nbformat": 4,
  "nbformat_minor": 0
}